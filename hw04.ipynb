{
 "cells": [
  {
   "cell_type": "markdown",
   "id": "6bad6b38-eca0-4cfc-ac6a-2723a3cbb50a",
   "metadata": {},
   "source": [
    "#### Задача 1. \n",
    "\n",
    "Ученики одной школы все знают хотя бы по одному языку. Программа получает число школьников, а потом в цикле for собирает сведения о их языках, н-р:\n",
    "\n",
    "    2\n",
    "    English Bulgarian\n",
    "    English Romanian\n",
    "    \n",
    "Нужно узнать, какие языки знает хотя бы один школьник и какие языки знают все школьники."
   ]
  },
  {
   "cell_type": "code",
   "execution_count": 50,
   "id": "660eafc9-7667-441a-954e-a3617941bdfd",
   "metadata": {},
   "outputs": [
    {
     "name": "stdout",
     "output_type": "stream",
     "text": [
      "common languages: {'english'}\n",
      "languages spoken by at least 1 student: {'spanish', 'dutch', 'chinese', 'korean', 'romanian', 'polish', 'english'}\n"
     ]
    }
   ],
   "source": [
    "students = int(input()) #5\n",
    "languages = []\n",
    "for i in range(students):\n",
    "    languages.extend(input(f'student {i + 1}: ').split()) # english dutch spanish english chinese english romanian english polish english korean\n",
    "uniquelanguages = set(languages)\n",
    "\n",
    "commonlanguages = set()\n",
    "for language in languages:\n",
    "    if languages.count(language) == students:\n",
    "        commonlanguages.add(language)\n",
    "\n",
    "print(f'common languages: {commonlanguages}\\nlanguages spoken by at least 1 student: {uniquelanguages}')     \n"
   ]
  },
  {
   "cell_type": "markdown",
   "id": "359818d1-46c4-43c1-b9c6-719cd83c06a7",
   "metadata": {},
   "source": [
    "#### Задача 2. \n",
    "\n",
    "Напишите функцию, которая будет принимать строку, в которой содержится любой текст (положим, русскоязычный), и возвращать список, содержащий только слова (для удаления пунктуации можно воспользоваться punctuation из модуля string, если хочется). Если умеете пользоваться регулярками - можно использовать регулярки. \n",
    "\n",
    "Посчитайте частотный список слов для текста в этой строке. "
   ]
  },
  {
   "cell_type": "code",
   "execution_count": 20,
   "id": "37a6a911-03c9-4fdb-960e-644cfbf55a13",
   "metadata": {},
   "outputs": [],
   "source": [
    "from collections import Counter\n",
    "import string\n",
    "\n",
    "def frequ(y):\n",
    "    x = string.punctuation\n",
    "    for symbol in x:\n",
    "        y = y.replace(symbol, '')\n",
    "    frequency = Counter(y.lower().split())\n",
    "    ten = frequency.most_common(10)\n",
    "    return ten"
   ]
  },
  {
   "cell_type": "code",
   "execution_count": 21,
   "id": "bd9e103f",
   "metadata": {},
   "outputs": [
    {
     "data": {
      "text/plain": [
       "[('to', 4),\n",
       " ('the', 3),\n",
       " ('be', 2),\n",
       " ('or', 2),\n",
       " ('and', 2),\n",
       " ('of', 2),\n",
       " ('not', 1),\n",
       " ('that', 1),\n",
       " ('is', 1),\n",
       " ('question', 1)]"
      ]
     },
     "execution_count": 21,
     "metadata": {},
     "output_type": "execute_result"
    }
   ],
   "source": [
    "hamlet = 'To , be ,,, or not to .. be that !!is the question Whether?,, tis nobler in the mind to suffer The slings and arrows of outrageous fortune Or to take arms against a sea of troubles And by opposing end them'\n",
    "frequ(hamlet)"
   ]
  },
  {
   "cell_type": "markdown",
   "id": "552bc43b-804b-41d3-a482-35ad54f36e06",
   "metadata": {},
   "source": [
    "#### Задача 3. \n",
    "\n",
    "Положим, у нас есть список со вложенными списками (глубина вложенности может быть какая угодно: это может быть список списков списков...). Напишите функцию, которая будет рекурсивно обходить все элементы в этих списках и посчитает, сколько всего встретилось уникальных элементов. Считаем, что эти элементы - целые числа (вам понадобится проверять type(x) == int). "
   ]
  },
  {
   "cell_type": "code",
   "execution_count": 45,
   "id": "4b8ee15e",
   "metadata": {},
   "outputs": [],
   "source": [
    "def unielems(a):\n",
    "    unique = set()    \n",
    "    for elem in a:\n",
    "        if type(elem) is list:\n",
    "            unique.update(unielems(elem))\n",
    "        elif type(elem) is int:\n",
    "            unique.add(elem)\n",
    "    \n",
    "    return unique"
   ]
  },
  {
   "cell_type": "code",
   "execution_count": 46,
   "id": "8be8b715",
   "metadata": {},
   "outputs": [
    {
     "name": "stdout",
     "output_type": "stream",
     "text": [
      "Количество уникальных элементов: 11\n",
      "Уникальные элементы: [1, 3, 4, 5, 35, 999, 70, 8, 10, 22, 61]\n"
     ]
    }
   ],
   "source": [
    "listoflists = [1, [22, 3, [3, [[[[999]]]], 4], 5], [35, 10, [[70], 70]], [61, [70, [8]]]]\n",
    "unique_elements = unielems(listoflists)\n",
    "print(f'Количество уникальных элементов: {len(unique_elements)}\\nУникальные элементы: {list(unique_elements)}')"
   ]
  },
  {
   "cell_type": "markdown",
   "id": "be46c202-8887-4cdb-a6c2-acd40c86403f",
   "metadata": {},
   "source": [
    "#### Задача 4. \n",
    "\n",
    "Напишите функцию для сложения матриц."
   ]
  },
  {
   "cell_type": "code",
   "execution_count": 35,
   "id": "c5043381-10a6-4562-860c-0ff22d51c0db",
   "metadata": {},
   "outputs": [],
   "source": [
    "a = [[x for x in range(1, 6)] for y in range(1, 6)]\n",
    "b = [[x for x in range(1, 6)] for y in range(1, 6)]\n",
    "\n",
    "def summamat(a, b):\n",
    "    c = [[a[j][i] + b[j][i] for i in range(len(a))] for j in range(len(a[0]))]\n",
    "    print(*c, sep='\\n')"
   ]
  },
  {
   "cell_type": "code",
   "execution_count": 36,
   "id": "d283dca2",
   "metadata": {},
   "outputs": [
    {
     "name": "stdout",
     "output_type": "stream",
     "text": [
      "[2, 4, 6, 8, 10]\n",
      "[2, 4, 6, 8, 10]\n",
      "[2, 4, 6, 8, 10]\n",
      "[2, 4, 6, 8, 10]\n",
      "[2, 4, 6, 8, 10]\n"
     ]
    }
   ],
   "source": [
    "summamat(a, b)"
   ]
  },
  {
   "cell_type": "markdown",
   "id": "10fcf684-2ee1-4342-9c0a-1c959a473320",
   "metadata": {},
   "source": [
    "#### Задача 5. \n",
    "\n",
    "Напишите функцию для умножения матриц."
   ]
  },
  {
   "cell_type": "code",
   "execution_count": 38,
   "id": "8b95b0a2-93c8-4a76-9795-9702a584aa94",
   "metadata": {},
   "outputs": [],
   "source": [
    "def multiplication(a, b):\n",
    "    c = [[a[j][i] * b[j][i] for i in range(len(a))] for j in range(len(a[0]))]\n",
    "    print(*c, sep='\\n')"
   ]
  },
  {
   "cell_type": "code",
   "execution_count": 39,
   "id": "a009cb95",
   "metadata": {},
   "outputs": [
    {
     "name": "stdout",
     "output_type": "stream",
     "text": [
      "[1, 4, 9, 16, 25]\n",
      "[1, 4, 9, 16, 25]\n",
      "[1, 4, 9, 16, 25]\n",
      "[1, 4, 9, 16, 25]\n",
      "[1, 4, 9, 16, 25]\n"
     ]
    }
   ],
   "source": [
    "multiplication(a, b)"
   ]
  },
  {
   "cell_type": "markdown",
   "id": "1f145040-6a4e-44e5-a0f0-99d76a8f5413",
   "metadata": {},
   "source": [
    "#### Задача 6. \n",
    "\n",
    "Напишите функцию, которая генерирует [матрицу сдвига](https://ru.wikipedia.org/wiki/%D0%9C%D0%B0%D1%82%D1%80%D0%B8%D1%86%D0%B0_%D1%81%D0%B4%D0%B2%D0%B8%D0%B3%D0%B0). У функции должно быть два параметра: n (размер матрицы) и bias (на сколько столбцов сдвигать)."
   ]
  },
  {
   "cell_type": "code",
   "execution_count": 56,
   "id": "4ba92bad-1317-443f-b737-41ee396c4c7e",
   "metadata": {},
   "outputs": [],
   "source": [
    "def shiftmatrix(n, bias):\n",
    "    for i in range(n):\n",
    "        for j in range(n):\n",
    "            if n + bias - 1 == i + j:\n",
    "                print(1, end=' ')\n",
    "            else:\n",
    "                print(0, end=' ') \n",
    "        print()           "
   ]
  },
  {
   "cell_type": "code",
   "execution_count": 63,
   "id": "f932f374",
   "metadata": {},
   "outputs": [
    {
     "name": "stdout",
     "output_type": "stream",
     "text": [
      "0 0 0 1 0 \n",
      "0 0 1 0 0 \n",
      "0 1 0 0 0 \n",
      "1 0 0 0 0 \n",
      "0 0 0 0 0 \n"
     ]
    }
   ],
   "source": [
    "shiftmatrix(int(input()), int(input()))"
   ]
  },
  {
   "cell_type": "markdown",
   "id": "bbe7efcb-ae28-40ad-935e-b7f231207779",
   "metadata": {},
   "source": [
    "#### Задача 7. \n",
    "\n",
    "Напишите функцию transpose(m), которая будет транспонировать матрицу."
   ]
  },
  {
   "cell_type": "code",
   "execution_count": 8,
   "id": "445846ac-fe77-40f3-92cc-d3e5f719a47e",
   "metadata": {},
   "outputs": [
    {
     "data": {
      "text/plain": [
       "[[1, 2, 3, 4, 5, 6, 7, 8, 9],\n",
       " [1, 2, 3, 4, 5, 6, 7, 8, 9],\n",
       " [1, 2, 3, 4, 5, 6, 7, 8, 9],\n",
       " [1, 2, 3, 4, 5, 6, 7, 8, 9],\n",
       " [1, 2, 3, 4, 5, 6, 7, 8, 9],\n",
       " [1, 2, 3, 4, 5, 6, 7, 8, 9],\n",
       " [1, 2, 3, 4, 5, 6, 7, 8, 9],\n",
       " [1, 2, 3, 4, 5, 6, 7, 8, 9],\n",
       " [1, 2, 3, 4, 5, 6, 7, 8, 9]]"
      ]
     },
     "execution_count": 8,
     "metadata": {},
     "output_type": "execute_result"
    }
   ],
   "source": [
    "matrix = [[x for x in range(1, 10)] for j in range(1, 10)]\n",
    "matrix"
   ]
  },
  {
   "cell_type": "code",
   "execution_count": 9,
   "id": "141ba88c",
   "metadata": {},
   "outputs": [],
   "source": [
    "def transposing(matrix):\n",
    "    new = [[matrix[i][j] for i in range(len(matrix))] for j in range(len(matrix[0]))]\n",
    "    print(*new, sep='\\n')"
   ]
  },
  {
   "cell_type": "code",
   "execution_count": 10,
   "id": "5cef93e0",
   "metadata": {},
   "outputs": [
    {
     "name": "stdout",
     "output_type": "stream",
     "text": [
      "[1, 1, 1, 1, 1, 1, 1, 1, 1]\n",
      "[2, 2, 2, 2, 2, 2, 2, 2, 2]\n",
      "[3, 3, 3, 3, 3, 3, 3, 3, 3]\n",
      "[4, 4, 4, 4, 4, 4, 4, 4, 4]\n",
      "[5, 5, 5, 5, 5, 5, 5, 5, 5]\n",
      "[6, 6, 6, 6, 6, 6, 6, 6, 6]\n",
      "[7, 7, 7, 7, 7, 7, 7, 7, 7]\n",
      "[8, 8, 8, 8, 8, 8, 8, 8, 8]\n",
      "[9, 9, 9, 9, 9, 9, 9, 9, 9]\n"
     ]
    }
   ],
   "source": [
    "transposing(matrix)"
   ]
  },
  {
   "cell_type": "markdown",
   "id": "5bc74489-65ad-4854-a223-d22b2fd6e64d",
   "metadata": {},
   "source": [
    "#### Задача 8 (\\*). \n",
    "\n",
    "Жизнь. Напишите игру \"Жизнь\". Что это такое - читайте в википедии и здесь: http://www.michurin.net/online-tools/life-game.html \n",
    "\n",
    "Вообще говоря, это не игра в привычном понимании этого слова, а процесс. В простейшем виде достаточно раз в 0.1 секунды выводить на экран обновлённое поле (обновлять консоль можно с помощью команды os.clear('cls'), модуль os. Для macOS может немного отличаться, погуглите). Для рамочек можно использовать специальные символы для рисования рамочек (найдите в таблице unicode). Пробел - пустая клетка, живая клетка может быть обозначена, например, символом '+'. Начальное поле генерируется случайным образом, вероятность появления жизни в клетке при начальной генерации - должна быть настраиваемым параметром. Размеры поля вводит пользователь при запуске программы. Также должна быть возможность в качестве начальной популяции использовать [R-pentomino](http://www.conwaylife.com/wiki/R-pentomino)."
   ]
  },
  {
   "cell_type": "code",
   "execution_count": null,
   "id": "fbd943ec-39aa-4129-9a60-c5b13f43234c",
   "metadata": {},
   "outputs": [],
   "source": [
    "# your code here"
   ]
  },
  {
   "cell_type": "markdown",
   "id": "a52faff1-12e5-4ae9-97d2-698f9862e58a",
   "metadata": {},
   "source": [
    "#### Задача 9. \n",
    "\n",
    "Рекурсивная генерация последовательностей На вход программе задается два числа N и K. Напечатайте все последовательности длины N, на каждом месте в последовательности может стоять любое число от 1 до K, но нигде подряд не стоит двух одинаковых чисел. Программа должна напечатать все такие последовательности в лексикографическом порядке. Каждая последовательность должна быть напечатана на отдельной строке. Числа в последовательности должны разделяться пробелами.\n",
    "\n",
    "Пример входных данных:\n",
    "\n",
    "    4 3\n",
    "\n",
    "Пример выходных данных:\n",
    "\n",
    "    1 2 1 2\n",
    "    1 2 1 3\n",
    "    1 2 3 1\n",
    "    1 2 3 2\n",
    "    1 3 1 2\n",
    "    1 3 1 3\n",
    "    1 3 2 1\n",
    "    1 3 2 3\n",
    "    2 1 2 1\n",
    "    2 1 2 3\n",
    "    2 1 3 1\n",
    "    2 1 3 2\n",
    "    2 3 1 2\n",
    "    2 3 1 3\n",
    "    2 3 2 1\n",
    "    2 3 2 3\n",
    "    3 1 2 1\n",
    "    3 1 2 3\n",
    "    3 1 3 1\n",
    "    3 1 3 2\n",
    "    3 2 1 2\n",
    "    3 2 1 3\n",
    "    3 2 3 1\n",
    "    3 2 3 2"
   ]
  },
  {
   "cell_type": "code",
   "execution_count": 42,
   "id": "26bd8435",
   "metadata": {},
   "outputs": [],
   "source": [
    "def permutation(s):\n",
    "    if len(s) == 1:\n",
    "        return [s]\n",
    "    permutations = []\n",
    "    for i in s:\n",
    "        remaining = [x for x in s if x != i]\n",
    "        another = permutation(remaining)\n",
    "        for t in another:\n",
    "            permutations.append([i] + t)\n",
    "    return permutations  \n",
    "\n"
   ]
  },
  {
   "cell_type": "code",
   "execution_count": 44,
   "id": "629fc47b",
   "metadata": {},
   "outputs": [
    {
     "name": "stdout",
     "output_type": "stream",
     "text": [
      "[1, 2, 3]\n",
      "[1, 3, 2]\n",
      "[2, 1, 3]\n",
      "[2, 3, 1]\n",
      "[3, 1, 2]\n",
      "[3, 2, 1]\n"
     ]
    }
   ],
   "source": [
    "n = int(input()) # length\n",
    "k = int(input()) # 1 to k\n",
    "s = [k+1 for k in range(k)]\n",
    "for line in permutation(s):\n",
    "    print(line)      \n",
    "   "
   ]
  }
 ],
 "metadata": {
  "kernelspec": {
   "display_name": "Python 3 (ipykernel)",
   "language": "python",
   "name": "python3"
  },
  "language_info": {
   "codemirror_mode": {
    "name": "ipython",
    "version": 3
   },
   "file_extension": ".py",
   "mimetype": "text/x-python",
   "name": "python",
   "nbconvert_exporter": "python",
   "pygments_lexer": "ipython3",
   "version": "3.9.13"
  }
 },
 "nbformat": 4,
 "nbformat_minor": 5
}
