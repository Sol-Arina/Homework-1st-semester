{
 "cells": [
  {
   "cell_type": "markdown",
   "id": "841be60e-9845-421c-be6a-4aacf5858d22",
   "metadata": {
    "id": "_1tOdiaqqX04"
   },
   "source": [
    "#### Задача 1. \n",
    "\n",
    "Пользователь вводит какие-то числа; программа должна выводить в ответ, четное число или нечетное, пока не будет введен 0."
   ]
  },
  {
   "cell_type": "code",
   "execution_count": 4,
   "id": "9b4ee061-946b-49e4-b89c-a0eee3a513be",
   "metadata": {
    "id": "Rvr_eEqjqrkx"
   },
   "outputs": [
    {
     "name": "stdout",
     "output_type": "stream",
     "text": [
      "число нечетное\n",
      "число четное\n",
      "число четное\n",
      "число четное\n",
      "число нечетное\n",
      "число нечетное\n"
     ]
    }
   ],
   "source": [
    "while True:\n",
    "    number = int(input())\n",
    "    if number == 0:\n",
    "        break\n",
    "    elif number % 2 == 0:\n",
    "        print('число четное')\n",
    "    else:\n",
    "        print('число нечетное')    "
   ]
  },
  {
   "cell_type": "markdown",
   "id": "f843e848-f6d1-44b3-abd3-e3c94712ad79",
   "metadata": {
    "id": "JwPe3Dmvqrth"
   },
   "source": [
    "#### Задача 2. \n",
    "\n",
    "Сперва пользователь вводит число n, а потом вводит n чисел. Нужно посчитать среднее арифметическое."
   ]
  },
  {
   "cell_type": "code",
   "execution_count": 11,
   "id": "f2d246b1-17a0-4fff-9322-02b767c32bc6",
   "metadata": {
    "id": "tSB_rTPfq3Wp"
   },
   "outputs": [
    {
     "name": "stdout",
     "output_type": "stream",
     "text": [
      "среднее арифметическое: 5.0\n"
     ]
    }
   ],
   "source": [
    "n = int(input())\n",
    "i = 0\n",
    "summa = 0\n",
    "while True:\n",
    "    number = int(input())\n",
    "    summa += number\n",
    "    i += 1\n",
    "    if i == n:\n",
    "        print(f'среднее арифметическое: {summa / i}')\n",
    "        break"
   ]
  },
  {
   "cell_type": "markdown",
   "id": "f24a0fe9-ee3c-4d0e-a0c7-3d246ee1ade7",
   "metadata": {
    "id": "8-VHAaezq3mg"
   },
   "source": [
    "#### Задача 3. \n",
    "\n",
    "Дано натуральное число n. Напечатайте все n-значные нечетные натуральные числа в порядке убывания. Условными конструкциями пользоваться запрещено.\n",
    "\n",
    "То есть, для введенного 2 должно начинаться как:\n",
    "\n",
    "    99\n",
    "    97\n",
    "    95\n",
    "    93\n",
    "    91\n",
    "    ..."
   ]
  },
  {
   "cell_type": "code",
   "execution_count": 9,
   "id": "91eb0be3-f330-4756-817a-1800ca52d5bf",
   "metadata": {
    "id": "FA2wf7xJq-GR"
   },
   "outputs": [
    {
     "name": "stdout",
     "output_type": "stream",
     "text": [
      "99\n",
      "97\n",
      "95\n",
      "93\n",
      "91\n",
      "89\n",
      "87\n",
      "85\n",
      "83\n",
      "81\n",
      "79\n",
      "77\n",
      "75\n",
      "73\n",
      "71\n",
      "69\n",
      "67\n",
      "65\n",
      "63\n",
      "61\n",
      "59\n",
      "57\n",
      "55\n",
      "53\n",
      "51\n",
      "49\n",
      "47\n",
      "45\n",
      "43\n",
      "41\n",
      "39\n",
      "37\n",
      "35\n",
      "33\n",
      "31\n",
      "29\n",
      "27\n",
      "25\n",
      "23\n",
      "21\n",
      "19\n",
      "17\n",
      "15\n",
      "13\n",
      "11\n",
      "9\n",
      "7\n",
      "5\n",
      "3\n",
      "1\n"
     ]
    }
   ],
   "source": [
    "n = int(input())\n",
    "for i in range(10**n - 1, 0, -2):\n",
    "    print(i)"
   ]
  },
  {
   "cell_type": "markdown",
   "id": "14a54f0a-0600-4024-b37b-e174c2c0c27d",
   "metadata": {
    "id": "J6mR5A8urRDQ"
   },
   "source": [
    "#### Задача 4. \n",
    "\n",
    "По данному натуральному n ≤ 9 выведите лесенку из n ступенек, i-я ступенька состоит из чисел от 1 до i без пробелов. То есть, должно быть что-то такое:\n",
    "\n",
    "    1\n",
    "    12\n",
    "    123\n",
    "    1234"
   ]
  },
  {
   "cell_type": "code",
   "execution_count": 10,
   "id": "eea26fe1-a85c-48b8-9a80-f2d1ab182f58",
   "metadata": {
    "id": "cDCzajvgrVBh"
   },
   "outputs": [
    {
     "name": "stdout",
     "output_type": "stream",
     "text": [
      "1\n",
      "12\n",
      "123\n",
      "1234\n"
     ]
    }
   ],
   "source": [
    "n = int(input())\n",
    "for i in range(1, n + 1):\n",
    "    for j in range(1, i + 1):\n",
    "        print(j, sep='', end='')\n",
    "    print()"
   ]
  },
  {
   "cell_type": "markdown",
   "id": "69f4780b-d5f4-478b-ada4-02ad98b20156",
   "metadata": {
    "id": "WRuR7thtrVVA"
   },
   "source": [
    "#### Задача 5. \n",
    "\n",
    "Пользователь вводит целые (не обязательно положительные) числа. Программа должна вывести самое большое введенное число. Списками пользоваться нельзя."
   ]
  },
  {
   "cell_type": "code",
   "execution_count": 12,
   "id": "84708216-b8a8-44ab-87ff-f3b8a8d08e96",
   "metadata": {
    "id": "5PFWjAunrdw5"
   },
   "outputs": [
    {
     "name": "stdout",
     "output_type": "stream",
     "text": [
      "Cамое большое число: 875\n"
     ]
    }
   ],
   "source": [
    "maxi = 0\n",
    "while True:\n",
    "   num = int(input())\n",
    "   if num > maxi:\n",
    "      maxi = num\n",
    "   if num == 0:\n",
    "      break\n",
    "print (f'Cамое большое число: {maxi}')"
   ]
  }
 ],
 "metadata": {
  "kernelspec": {
   "display_name": "Python 3 (ipykernel)",
   "language": "python",
   "name": "python3"
  },
  "language_info": {
   "codemirror_mode": {
    "name": "ipython",
    "version": 3
   },
   "file_extension": ".py",
   "mimetype": "text/x-python",
   "name": "python",
   "nbconvert_exporter": "python",
   "pygments_lexer": "ipython3",
   "version": "3.9.13"
  }
 },
 "nbformat": 4,
 "nbformat_minor": 5
}
