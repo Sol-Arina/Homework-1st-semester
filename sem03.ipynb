{
 "cells": [
  {
   "cell_type": "markdown",
   "id": "6703f5f8-f71b-483e-89cf-4ffd1e5e6ec0",
   "metadata": {},
   "source": [
    "## Задание 1.\n",
    "\n",
    "Пользователь вводит набор целых чисел через пробелы. Посчитайте сумму из получившегося набора, выведите минимальное и максимальное число. "
   ]
  },
  {
   "cell_type": "code",
   "execution_count": 3,
   "id": "02d8cfd2-eae4-47f7-baf0-bf00476bd7d4",
   "metadata": {
    "tags": []
   },
   "outputs": [
    {
     "name": "stdout",
     "output_type": "stream",
     "text": [
      "сумма: 6\n",
      "минимальное число: 1\n",
      "максимальное число: 3\n"
     ]
    }
   ],
   "source": [
    "mylist = [int(x) for x in input().split()]\n",
    "print(f'сумма: {sum(mylist)}\\nминимальное число: {min(mylist)}\\nмаксимальное число: {max(mylist)}')"
   ]
  },
  {
   "cell_type": "markdown",
   "id": "09e63457-6749-4bfb-a303-c882324644d7",
   "metadata": {},
   "source": [
    "## Задание 2. \n",
    "\n",
    "Создайте список из чисел от 1 до 10. Вставьте после тройки число 30. Сделайте это двумя способами. "
   ]
  },
  {
   "cell_type": "code",
   "execution_count": 7,
   "id": "8e696754-d285-4ea6-b958-ea205d80502e",
   "metadata": {},
   "outputs": [
    {
     "name": "stdout",
     "output_type": "stream",
     "text": [
      "[1, 2, 3, 30, 4, 5, 6, 7, 8, 9, 10]\n"
     ]
    }
   ],
   "source": [
    "mylist1 = [int(y) for y in range(1, 11)]\n",
    "mylist1[3:3] = [30]\n",
    "print(mylist1)"
   ]
  },
  {
   "cell_type": "code",
   "execution_count": 12,
   "id": "91bc0f1b",
   "metadata": {},
   "outputs": [
    {
     "name": "stdout",
     "output_type": "stream",
     "text": [
      "[1, 2, 3, 30, 4, 5, 6, 7, 8, 9, 10]\n"
     ]
    }
   ],
   "source": [
    "mylist2 = [int(s) for s in range(1, 11)]\n",
    "mylist2.insert(3, 30)\n",
    "print(mylist2)"
   ]
  },
  {
   "cell_type": "markdown",
   "id": "027a3593-c6d2-4159-a5ba-bdc51cd71aba",
   "metadata": {},
   "source": [
    "## Задание 3. \n",
    "\n",
    "Дан список, в котором есть повторяющиеся элементы, в т.ч. элемент Х (н-р, какое-то число). Нужно удалить из списка все вхождения элемента Х. "
   ]
  },
  {
   "cell_type": "code",
   "execution_count": 13,
   "id": "36db551f-a3fb-4c0d-a0aa-31b2d23387f4",
   "metadata": {},
   "outputs": [
    {
     "name": "stdout",
     "output_type": "stream",
     "text": [
      "[1, 2, 3, 4, 5, 6, 7]\n"
     ]
    }
   ],
   "source": [
    "mylist3 = [1, 2, 3, 4, 42, 5, 6, 42, 7, 42, 42]\n",
    "c = 42\n",
    "while c in mylist3:\n",
    "    mylist3.remove(c)\n",
    "print(mylist3)    "
   ]
  },
  {
   "cell_type": "markdown",
   "id": "55f5eced-64da-460a-b8e4-8f2a66241942",
   "metadata": {},
   "source": [
    "## Задание 4.\n",
    "\n",
    "Пользователь вводит строчку из слов, разделенных пробелами. Отсортируйте слова в алфавитном порядке задом наперед (т.е., яблоко будет первее юлы) и выведите их столбиком (каждое слово на новой строчке)."
   ]
  },
  {
   "cell_type": "code",
   "execution_count": 20,
   "id": "e6ab9489-b559-4053-8892-72b65da659fe",
   "metadata": {},
   "outputs": [
    {
     "name": "stdout",
     "output_type": "stream",
     "text": [
      "['яблоко', 'юла', 'роса', 'мама', 'книга']\n"
     ]
    }
   ],
   "source": [
    "mylist4 = input().split() #яблоко юла мама роса книга\n",
    "mylist4.sort(reverse=True)\n",
    "print(mylist4)"
   ]
  },
  {
   "cell_type": "markdown",
   "id": "5d2e081b-2fe0-4f85-9548-42fb61af4f77",
   "metadata": {},
   "source": [
    "## Задание 5.\n",
    "\n",
    "Напишите функцию, которая вычисляет степень числа (аналогичную оператору \\*\\*, только сам оператор, разумеется, использовать нельзя). "
   ]
  },
  {
   "cell_type": "code",
   "execution_count": 48,
   "id": "6bef021b-13bf-4876-b6c3-321c3d1a8d4b",
   "metadata": {},
   "outputs": [],
   "source": [
    "def root(x, y):\n",
    "    c = 1\n",
    "    for i in range(abs(y)):\n",
    "        c *= x\n",
    "    if y < 0:\n",
    "        c = 1/c\n",
    "    return c"
   ]
  },
  {
   "cell_type": "code",
   "execution_count": 49,
   "id": "7da0444a",
   "metadata": {},
   "outputs": [
    {
     "data": {
      "text/plain": [
       "0.125"
      ]
     },
     "execution_count": 49,
     "metadata": {},
     "output_type": "execute_result"
    }
   ],
   "source": [
    "root(int(input()), int(input()))"
   ]
  },
  {
   "cell_type": "markdown",
   "id": "8693d9ff-bacf-41d8-a766-ad80d0d3ad6f",
   "metadata": {},
   "source": [
    "## Задание 6.\n",
    "\n",
    "Напишите функцию, которая принимает неограниченное количество аргументов-чисел и выводит их квадраты. "
   ]
  },
  {
   "cell_type": "code",
   "execution_count": 62,
   "id": "eb944366-2247-4205-8ced-d804de0806d4",
   "metadata": {},
   "outputs": [],
   "source": [
    "def squares():\n",
    "    while True:\n",
    "        num = input()\n",
    "        if num.lower() == 'стоп':\n",
    "            print('stop')\n",
    "            break\n",
    "        print(int(num) ** 2)"
   ]
  },
  {
   "cell_type": "code",
   "execution_count": 63,
   "id": "1631f9e3",
   "metadata": {},
   "outputs": [
    {
     "name": "stdout",
     "output_type": "stream",
     "text": [
      "4\n",
      "9\n",
      "16\n",
      "25\n",
      "stop\n"
     ]
    }
   ],
   "source": [
    "squares()"
   ]
  },
  {
   "cell_type": "markdown",
   "id": "6e74ce47-7453-428f-ba38-64a169147538",
   "metadata": {},
   "source": [
    "## Задание 7.\n",
    "\n",
    "Напишите функцию, которая принимает неограниченное количество аргументов-строк и параметр = метод строки, который затем последовательно применяется к каждой строчке. Результаты можно вернуть списком. Оформите функцию грамотно, напишите docstring. "
   ]
  },
  {
   "cell_type": "code",
   "execution_count": 142,
   "id": "e0164705-bc8b-46de-9686-36a4cb405464",
   "metadata": {},
   "outputs": [],
   "source": [
    "def stringtitle(method, *args):\n",
    "    '''a function to make all the words in a string start with a capital letter'''  \n",
    "    A = []\n",
    "    for arg in args:\n",
    "        c = arg.method()\n",
    "        A.append(c)\n",
    "    print(A)\n",
    "      \n",
    "    #A = []\n",
    "    #while True:\n",
    "    #    sent = input()\n",
    "    #   if sent.isspace() or sent.lower() == 'стоп':\n",
    "    #        break\n",
    "    #    else:\n",
    "    #        sent = sent.title()\n",
    "    #        A.append(sent)\n",
    "    #print(A)\n",
    "        #sent = sent.capitalize()\n"
   ]
  },
  {
   "cell_type": "code",
   "execution_count": 143,
   "id": "69247b3b",
   "metadata": {},
   "outputs": [
    {
     "ename": "AttributeError",
     "evalue": "'str' object has no attribute 'method'",
     "output_type": "error",
     "traceback": [
      "\u001b[1;31m---------------------------------------------------------------------------\u001b[0m",
      "\u001b[1;31mAttributeError\u001b[0m                            Traceback (most recent call last)",
      "\u001b[1;32md:\\Записи с пар и домашки по проге\\то что нужно сдать\\sem03.ipynb Cell 18\u001b[0m line \u001b[0;36m1\n\u001b[1;32m----> <a href='vscode-notebook-cell:/d%3A/%D0%97%D0%B0%D0%BF%D0%B8%D1%81%D0%B8%20%D1%81%20%D0%BF%D0%B0%D1%80%20%D0%B8%20%D0%B4%D0%BE%D0%BC%D0%B0%D1%88%D0%BA%D0%B8%20%D0%BF%D0%BE%20%D0%BF%D1%80%D0%BE%D0%B3%D0%B5/%D1%82%D0%BE%20%D1%87%D1%82%D0%BE%20%D0%BD%D1%83%D0%B6%D0%BD%D0%BE%20%D1%81%D0%B4%D0%B0%D1%82%D1%8C/sem03.ipynb#X31sZmlsZQ%3D%3D?line=0'>1</a>\u001b[0m stringtitle(\u001b[39mstr\u001b[39;49m\u001b[39m.\u001b[39;49mtitle, \u001b[39m'\u001b[39;49m\u001b[39mмама и бабушка\u001b[39;49m\u001b[39m'\u001b[39;49m, \u001b[39m'\u001b[39;49m\u001b[39mвсё смешалось кони люди\u001b[39;49m\u001b[39m'\u001b[39;49m, \u001b[39m'\u001b[39;49m\u001b[39mкостёр рябины\u001b[39;49m\u001b[39m'\u001b[39;49m)\n",
      "\u001b[1;32md:\\Записи с пар и домашки по проге\\то что нужно сдать\\sem03.ipynb Cell 18\u001b[0m line \u001b[0;36m5\n\u001b[0;32m      <a href='vscode-notebook-cell:/d%3A/%D0%97%D0%B0%D0%BF%D0%B8%D1%81%D0%B8%20%D1%81%20%D0%BF%D0%B0%D1%80%20%D0%B8%20%D0%B4%D0%BE%D0%BC%D0%B0%D1%88%D0%BA%D0%B8%20%D0%BF%D0%BE%20%D0%BF%D1%80%D0%BE%D0%B3%D0%B5/%D1%82%D0%BE%20%D1%87%D1%82%D0%BE%20%D0%BD%D1%83%D0%B6%D0%BD%D0%BE%20%D1%81%D0%B4%D0%B0%D1%82%D1%8C/sem03.ipynb#X31sZmlsZQ%3D%3D?line=2'>3</a>\u001b[0m A \u001b[39m=\u001b[39m []\n\u001b[0;32m      <a href='vscode-notebook-cell:/d%3A/%D0%97%D0%B0%D0%BF%D0%B8%D1%81%D0%B8%20%D1%81%20%D0%BF%D0%B0%D1%80%20%D0%B8%20%D0%B4%D0%BE%D0%BC%D0%B0%D1%88%D0%BA%D0%B8%20%D0%BF%D0%BE%20%D0%BF%D1%80%D0%BE%D0%B3%D0%B5/%D1%82%D0%BE%20%D1%87%D1%82%D0%BE%20%D0%BD%D1%83%D0%B6%D0%BD%D0%BE%20%D1%81%D0%B4%D0%B0%D1%82%D1%8C/sem03.ipynb#X31sZmlsZQ%3D%3D?line=3'>4</a>\u001b[0m \u001b[39mfor\u001b[39;00m arg \u001b[39min\u001b[39;00m args:\n\u001b[1;32m----> <a href='vscode-notebook-cell:/d%3A/%D0%97%D0%B0%D0%BF%D0%B8%D1%81%D0%B8%20%D1%81%20%D0%BF%D0%B0%D1%80%20%D0%B8%20%D0%B4%D0%BE%D0%BC%D0%B0%D1%88%D0%BA%D0%B8%20%D0%BF%D0%BE%20%D0%BF%D1%80%D0%BE%D0%B3%D0%B5/%D1%82%D0%BE%20%D1%87%D1%82%D0%BE%20%D0%BD%D1%83%D0%B6%D0%BD%D0%BE%20%D1%81%D0%B4%D0%B0%D1%82%D1%8C/sem03.ipynb#X31sZmlsZQ%3D%3D?line=4'>5</a>\u001b[0m     c \u001b[39m=\u001b[39m arg\u001b[39m.\u001b[39;49mmethod()\n\u001b[0;32m      <a href='vscode-notebook-cell:/d%3A/%D0%97%D0%B0%D0%BF%D0%B8%D1%81%D0%B8%20%D1%81%20%D0%BF%D0%B0%D1%80%20%D0%B8%20%D0%B4%D0%BE%D0%BC%D0%B0%D1%88%D0%BA%D0%B8%20%D0%BF%D0%BE%20%D0%BF%D1%80%D0%BE%D0%B3%D0%B5/%D1%82%D0%BE%20%D1%87%D1%82%D0%BE%20%D0%BD%D1%83%D0%B6%D0%BD%D0%BE%20%D1%81%D0%B4%D0%B0%D1%82%D1%8C/sem03.ipynb#X31sZmlsZQ%3D%3D?line=5'>6</a>\u001b[0m     A\u001b[39m.\u001b[39mappend(c)\n\u001b[0;32m      <a href='vscode-notebook-cell:/d%3A/%D0%97%D0%B0%D0%BF%D0%B8%D1%81%D0%B8%20%D1%81%20%D0%BF%D0%B0%D1%80%20%D0%B8%20%D0%B4%D0%BE%D0%BC%D0%B0%D1%88%D0%BA%D0%B8%20%D0%BF%D0%BE%20%D0%BF%D1%80%D0%BE%D0%B3%D0%B5/%D1%82%D0%BE%20%D1%87%D1%82%D0%BE%20%D0%BD%D1%83%D0%B6%D0%BD%D0%BE%20%D1%81%D0%B4%D0%B0%D1%82%D1%8C/sem03.ipynb#X31sZmlsZQ%3D%3D?line=6'>7</a>\u001b[0m \u001b[39mprint\u001b[39m(A)\n",
      "\u001b[1;31mAttributeError\u001b[0m: 'str' object has no attribute 'method'"
     ]
    }
   ],
   "source": [
    "stringtitle(str.title, 'мама и бабушка', 'всё смешалось кони люди', 'костёр рябины')"
   ]
  },
  {
   "cell_type": "markdown",
   "id": "448b4be8-53dd-470a-9a54-a16c4c1c3f71",
   "metadata": {},
   "source": [
    "## Задание 8. \n",
    "\n",
    "Отсортируйте список строчек в зависимости от того, сколько в каждой строке содержится букв а. (н-р, строчки \"мама\", \"арбуз\" и \"абракадабра\" должны выстроиться в \"арбуз\", \"мама\", \"абракадабра\")."
   ]
  },
  {
   "cell_type": "code",
   "execution_count": 106,
   "id": "98d5850a-3fd4-4bbe-a752-0184d2216fca",
   "metadata": {},
   "outputs": [
    {
     "data": {
      "text/plain": [
       "['арбуз', 'мама', 'абракадабра']"
      ]
     },
     "execution_count": 106,
     "metadata": {},
     "output_type": "execute_result"
    }
   ],
   "source": [
    "b = ['мама', 'арбуз', 'абракадабра']\n",
    "sorted(b, key=lambda s: s.count('а'))"
   ]
  },
  {
   "cell_type": "markdown",
   "id": "3947341a-a5b6-4c06-a58b-5d9de7f3bf5d",
   "metadata": {},
   "source": [
    "## Задание 9. \n",
    "\n",
    "Напишите функцию-генератор, которая будет возвращать новые функции, возводящие в степень N. Т.е., функция-генератор принимает в качестве аргумента число N, а возвращает функцию, которая будет принимать число и возвращать его же в степени N. "
   ]
  },
  {
   "cell_type": "code",
   "execution_count": 110,
   "id": "81d6128f-db52-4ab9-87a1-a788afdaf649",
   "metadata": {
    "tags": []
   },
   "outputs": [],
   "source": [
    "def first(n):\n",
    "    def second(num):\n",
    "        return num ** n\n",
    "    return second"
   ]
  },
  {
   "cell_type": "code",
   "execution_count": 111,
   "id": "bc746ee2",
   "metadata": {},
   "outputs": [
    {
     "data": {
      "text/plain": [
       "32"
      ]
     },
     "execution_count": 111,
     "metadata": {},
     "output_type": "execute_result"
    }
   ],
   "source": [
    "first(int(input()))(int(input()))"
   ]
  },
  {
   "cell_type": "markdown",
   "id": "213e07ae-9496-4eda-adc0-eaf232793645",
   "metadata": {
    "tags": []
   },
   "source": [
    "## Задание 10. \n",
    "\n",
    "Напишите рекурсивную функцию, которая будет возвращать, является ли строка палиндромом. На вход функция получает строки типа \"абба, \"абсба\" и подобные (пробелов внутри этих строк нет). "
   ]
  },
  {
   "cell_type": "code",
   "execution_count": 126,
   "id": "fadb453d",
   "metadata": {},
   "outputs": [],
   "source": [
    "def palindrome(pal):\n",
    "    if len(pal) <= 1:\n",
    "        return True\n",
    "    elif pal[0] != pal[-1]:\n",
    "        return False\n",
    "    else:\n",
    "        return palindrome(pal[1:-1])\n",
    "\n"
   ]
  },
  {
   "cell_type": "code",
   "execution_count": 127,
   "id": "791bee00",
   "metadata": {},
   "outputs": [
    {
     "data": {
      "text/plain": [
       "True"
      ]
     },
     "execution_count": 127,
     "metadata": {},
     "output_type": "execute_result"
    }
   ],
   "source": [
    "palindrome(input())"
   ]
  }
 ],
 "metadata": {
  "kernelspec": {
   "display_name": "Python 3 (ipykernel)",
   "language": "python",
   "name": "python3"
  },
  "language_info": {
   "codemirror_mode": {
    "name": "ipython",
    "version": 3
   },
   "file_extension": ".py",
   "mimetype": "text/x-python",
   "name": "python",
   "nbconvert_exporter": "python",
   "pygments_lexer": "ipython3",
   "version": "3.9.13"
  }
 },
 "nbformat": 4,
 "nbformat_minor": 5
}
