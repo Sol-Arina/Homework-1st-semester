{
 "cells": [
  {
   "cell_type": "code",
   "execution_count": 3,
   "id": "a89e2264-2e66-480b-bcc7-b4c8ff99bad2",
   "metadata": {},
   "outputs": [],
   "source": [
    "import re"
   ]
  },
  {
   "cell_type": "markdown",
   "id": "210eeb0f-4e33-47c0-a8c6-e8fb51948f45",
   "metadata": {},
   "source": [
    "Для всех задач, где формулировка вида \"найдите в тексте\", тексты для проверки вы можете выбирать абсолютно любые. "
   ]
  },
  {
   "cell_type": "markdown",
   "id": "fde27042-b65f-463e-b3fc-2bad477d6c63",
   "metadata": {
    "tags": []
   },
   "source": [
    "#### Задача 1. \n",
    "\n",
    "Найдите в тексте все смайлики вида :), :(, :-), :-(."
   ]
  },
  {
   "cell_type": "code",
   "execution_count": 48,
   "id": "c52e49dd-7f50-4184-9532-679b361ea564",
   "metadata": {},
   "outputs": [
    {
     "name": "stdout",
     "output_type": "stream",
     "text": [
      "[':)', ':(', ':-)', ':-(']\n"
     ]
    }
   ],
   "source": [
    "text = '''Ghgfdhgfed :) rtgerfedwdr hgqerwf :( gerfed :-), ffeeerf :-('''\n",
    "\n",
    "m = re.findall(r'(:\\)|:\\(|:-\\(|:-\\))', text)\n",
    "print(m)"
   ]
  },
  {
   "cell_type": "markdown",
   "id": "b29acd46-386e-4132-bf00-44315d5c4307",
   "metadata": {},
   "source": [
    "#### Задача 2.\n",
    "\n",
    "Некоторые любят выделять особо важные места в тексте с помощью нижнего подчёркивания, например: \"...здесь \\_очень важно\\_ отметить...\" (дело в том, что нижние подчеркивания в некоторых редакторах автоматически превращаются в курсив).\n",
    "\n",
    "Ищем такие выделения, но не длиннее 5 слов."
   ]
  },
  {
   "cell_type": "code",
   "execution_count": 49,
   "id": "983934da-ee39-4ba7-8441-71520874b14e",
   "metadata": {},
   "outputs": [
    {
     "name": "stdout",
     "output_type": "stream",
     "text": [
      "['rgerf_brbgf_rgefdws_nbcvx', 'JEFMK_HNJ_hjuoikol_ijok']\n"
     ]
    }
   ],
   "source": [
    "text1 ='''rgerf_brbgf_rgefdws_nbcvx and JEFMK_HNJ_hjuoikol_ijok evfwcedqs while cfvygubhij vbhjnmk nhbgf_ngf_nhgbfvd_ngbfv_nshgbf_nhgbf.'''\n",
    "\n",
    "n = re.finditer(r'(\\b([A-Za-z]*_){1,4}[A-Za-z]*\\b)', text1)\n",
    "underscore = []\n",
    "for i in n:\n",
    "    underscore.append(i.group(1))\n",
    "print(underscore)"
   ]
  },
  {
   "cell_type": "markdown",
   "id": "5d2981c3-0a88-439b-80e6-4066fb42395f",
   "metadata": {},
   "source": [
    "#### Задача 3.\n",
    "\n",
    "Найдите в тексте все куски, которые взяты в круглые скобки. "
   ]
  },
  {
   "cell_type": "code",
   "execution_count": 50,
   "id": "9b19dee6-9b0d-4d5c-aa58-fcad766674ee",
   "metadata": {},
   "outputs": [
    {
     "name": "stdout",
     "output_type": "stream",
     "text": [
      "['vjmfkvm okvfmvk', 'bjnvf', 'Ajkl Aopkoj Hjnk']\n"
     ]
    }
   ],
   "source": [
    "text2 = '''gbrefred (vjmfkvm okvfmvk) rgf gtefed bhjk (bjnvf) njofk (Ajkl Aopkoj Hjnk)'''\n",
    "\n",
    "x = re.findall(r'\\(([^)]+)\\)', text2)\n",
    "print(x)"
   ]
  },
  {
   "cell_type": "markdown",
   "id": "3528a4ae-3d21-4155-8c01-3259d2b2695e",
   "metadata": {},
   "source": [
    "#### Задача 5.\n",
    "\n",
    "В файле 26.txt содержатся сырые выкачанные из интернета новостные тексты. Извлеките сами тексты из файла. BeautifulSoup пользоваться пока нельзя. "
   ]
  },
  {
   "cell_type": "code",
   "execution_count": 56,
   "id": "10667ce9-4bc0-4909-a45b-7832a03fc650",
   "metadata": {},
   "outputs": [
    {
     "name": "stdout",
     "output_type": "stream",
     "text": [
      "[]\n"
     ]
    }
   ],
   "source": [
    "with open(r'D:\\7HW\\26.txt', 'r', encoding='utf8') as f:\n",
    "    text3 = f.read()\n",
    "texts = re.findall(r'(<text><o>)\\n?$([А-Яа-яЁё,.]*)$\\n?(<\\/o><\\/text>)', text3)\n",
    "print(texts)   "
   ]
  },
  {
   "cell_type": "markdown",
   "id": "5585604a-e8b1-4c12-b982-ac711fbbf377",
   "metadata": {},
   "source": [
    "#### Задача 6.\n",
    "\n",
    "Достаньте не только тексты из файла 26.txt, но и даты их создания - одним регулярным выражением, чтобы возвращались кортежи \"текст - дата\". "
   ]
  },
  {
   "cell_type": "code",
   "execution_count": null,
   "id": "7f01aee0-dcbb-4e36-b4df-69b68693a328",
   "metadata": {},
   "outputs": [],
   "source": [
    "# your code here"
   ]
  },
  {
   "cell_type": "markdown",
   "id": "4e963954-e84b-47a5-b6ea-7c39306a7b5e",
   "metadata": {},
   "source": [
    "#### Задача 7. \n",
    "\n",
    "Найдите в тексте смайлики вида \\*_\\*, \\^_\\^, T_T (а смайлики вида o_O нам не нужны)."
   ]
  },
  {
   "cell_type": "code",
   "execution_count": 52,
   "id": "bb07bd01-7161-4af1-8b02-f1d62e764a64",
   "metadata": {},
   "outputs": [
    {
     "name": "stdout",
     "output_type": "stream",
     "text": [
      "['*_*', '^_^', 'T_T', 'O_O']\n"
     ]
    }
   ],
   "source": [
    "text4 = '''*_* omg ^_^ T_T rgefdhj nm O_O hvfj o_O fkdl ^_*'''\n",
    "\n",
    "s = re.finditer(r'([A-Z]_[A-Z])|(\\*_\\*)|(\\^_\\^)', text4)\n",
    "smileys = []\n",
    "for i in s:\n",
    "    smileys.append(i.group(0))\n",
    "print(smileys)\n"
   ]
  },
  {
   "cell_type": "markdown",
   "id": "342e88f0-e1f6-4284-b975-4b6e8d09163f",
   "metadata": {},
   "source": [
    "#### Задача 9. \n",
    "\n",
    "Представим, что есть некоторые данные, представляющие из себя последовательность символов. С помощью регулярного выражения надо найти в них подпоследовательности, являющимися палиндромами, длины не менее 6-ти и не более 11 символов. (Подумайте, а хорошо ли подходят регулярные выражения для решения этой задачи?)"
   ]
  },
  {
   "cell_type": "code",
   "execution_count": 53,
   "id": "77c1f0c0-c211-44f9-9cd4-54bb490ec6d7",
   "metadata": {},
   "outputs": [
    {
     "name": "stdout",
     "output_type": "stream",
     "text": [
      "[]\n"
     ]
    }
   ],
   "source": [
    "# такое ощущение что регулярные выражения не очень подходят, но не знаю\n",
    "text8 = '''hannah gfjd abccba nllbjikol qwertyytrewq'''\n",
    "v =re.findall(r'\\b(\\w+)\\1\\b', text8)\n",
    "print(v)"
   ]
  },
  {
   "cell_type": "markdown",
   "id": "3596643f-878d-4b1e-89ed-13336fe44669",
   "metadata": {},
   "source": [
    "#### Задача 10.\n",
    "\n",
    "Найти в тексте все употребления слов \"понравилось\" и \"впечатлило\" такие, что непосредственно перед ними НЕ стоит \"не\". Время прошедшее, но род/число могут быть любыми."
   ]
  },
  {
   "cell_type": "code",
   "execution_count": 54,
   "id": "89b5c8c6-8e20-4dd5-9a5c-81c748b1ca47",
   "metadata": {},
   "outputs": [
    {
     "name": "stdout",
     "output_type": "stream",
     "text": [
      "['впечатлило', 'понравилось', 'понравились']\n"
     ]
    }
   ],
   "source": [
    "text5 = '''им не нравится не понравилось не впечатлило меня впечатлило ему понравилось но не впечатлило мне понравились'''\n",
    "b = re.findall(r'(?<! не )(впечатлили|впечатлила|впечатлило|впечатлил|понравились|понравилось|понравилась|понравился)', text5)\n",
    "print(b)"
   ]
  },
  {
   "cell_type": "markdown",
   "id": "90e3188b-8f90-473e-9bed-068879bf958d",
   "metadata": {},
   "source": [
    "#### Задача 11. \n",
    "\n",
    "Дан текст, каждая строка является именем некоторого файла (без директории). Напишите регулярное выражение, которое захватывает имена файлов без расширения, при этом интерес представляют только те файлы, у которых расширение не .bat и не .txt."
   ]
  },
  {
   "cell_type": "code",
   "execution_count": 55,
   "id": "8f01cb3a-a167-4a83-a37c-6fa7eda761d8",
   "metadata": {},
   "outputs": [
    {
     "name": "stdout",
     "output_type": "stream",
     "text": [
      "Файлы без расширений .bat, .txt: ['presentation', 'diary', 'sims4', 'twilight']\n"
     ]
    }
   ],
   "source": [
    "text6 = '''essay.txt presentation.pptx diary.pdf screenplay.txt sims4.exe twilight.mp4 myfile.bat forbidden.bat'''\n",
    "w = re.findall(r'\\b(\\w+)\\.[^(bat|txt)]', text6)\n",
    "print(f'Файлы без расширений .bat, .txt: {w}')"
   ]
  },
  {
   "cell_type": "markdown",
   "id": "82eba0a5-0fd0-4db0-927d-47310c37fbcd",
   "metadata": {},
   "source": [
    "#### Задача 12.\n",
    "\n",
    "Дан текст, каждая строка которого является полным или относительным путём к некоторому файлу.\n",
    "\n",
    "Напишите регулярное выражение, которое захватывает:\n",
    "1. директорию, в которой лежит файл;\n",
    "2. только имя файла (без расширения);\n",
    "3. только расширение;\n",
    "При этом:\n",
    "- нужны только файлы, у которых расширение не .bat и не .txt.\n",
    "- пути могут быть как в Unix, так и в Windows формате (https://ru.wikipedia.org/wiki/Путь_к_файлу).\n",
    "- расширение, если оно есть, начинается с точки. Файлы могут быть без расширения вовсе (в этом случае на месте расширения должно стоять None или \"\")\n",
    "- скрытые файлы могут начинаться с точки (например, .bashrc - и это не расширение)\n",
    "- относительный путь может содержать только название файла, в этом случае вместо директории выведите None или \"\"\n",
    "- в остальных случаях директория должна заканчиаться на разделитель директорий. Наприемр, в Unix-системах - \"/\" - это путь к корневой директории.\n",
    "\n",
    "Требуется получить список из кортежей, каждый кортеж содержит извлечённые данные.\n",
    "\n",
    "(Расширение в целом может содержать всё, что угодно, но разделителей директорий не может быть в именах файлах и расширениях. https://en.wikipedia.org/wiki/List_of_filename_extensions )"
   ]
  },
  {
   "cell_type": "code",
   "execution_count": 35,
   "id": "d7bf44e7-e963-4e08-93dc-f32301d79c98",
   "metadata": {},
   "outputs": [
    {
     "name": "stdout",
     "output_type": "stream",
     "text": [
      "[('/home/user/docs/', 'Letter', '.exe')]\n"
     ]
    }
   ],
   "source": [
    "#text7 = 'C:\\user\\docs\\Letter.txt' \n",
    "text9 = '/home/user/docs/Letter.exe'\n",
    "\n",
    "directorypattern = r'([\\/\\w+]+\\/)(\\w*)(\\.\\w+)'\n",
    "  \n",
    "directory = re.findall(directorypattern, text9) #пока не придумала до конца\n",
    "\n",
    "print(directory)\n"
   ]
  },
  {
   "cell_type": "markdown",
   "id": "e5a57165-c138-47b0-8804-c53a5da6c67d",
   "metadata": {},
   "source": [
    "#### Задача 13.\n",
    "\n",
    "Увеличить все встретившиеся в тексте четные числа на 1, а нечетные на 2, в том числе и отрицательные. Перед числом может стоять знак. Считаем, что между знаком и числом пробела нет."
   ]
  },
  {
   "cell_type": "code",
   "execution_count": 62,
   "id": "dd21a4b3-5ed0-4305-8b0a-9d899b503aaa",
   "metadata": {},
   "outputs": [
    {
     "name": "stdout",
     "output_type": "stream",
     "text": [
      "changed even numbers: [3, 5, 9, -21, -49, 3]\n"
     ]
    }
   ],
   "source": [
    "text10 = 'even numbers: 2 4 8 -22 -50 odd numbers: -5 23 -9 -99'\n",
    "d = re.findall(r'-?\\d?[24680]', text10)\n",
    "even = []\n",
    "for i in d:\n",
    "    i = int(i)\n",
    "    i += 1\n",
    "    even.append(i)\n",
    "print(f'changed even numbers: {even}')\n"
   ]
  },
  {
   "cell_type": "code",
   "execution_count": 63,
   "metadata": {},
   "outputs": [
    {
     "name": "stdout",
     "output_type": "stream",
     "text": [
      "changed odd numbers: [-3, 25, -7, -97]\n"
     ]
    }
   ],
   "source": [
    "f = re.findall(r'-?\\d?[13579]', text10)\n",
    "odd = []\n",
    "for j in f:\n",
    "    j = int(j)\n",
    "    j += 2\n",
    "    odd.append(j)\n",
    "print(f'changed odd numbers: {odd}')"
   ]
  }
 ],
 "metadata": {
  "kernelspec": {
   "display_name": "Python 3 (ipykernel)",
   "language": "python",
   "name": "python3"
  },
  "language_info": {
   "codemirror_mode": {
    "name": "ipython",
    "version": 3
   },
   "file_extension": ".py",
   "mimetype": "text/x-python",
   "name": "python",
   "nbconvert_exporter": "python",
   "pygments_lexer": "ipython3",
   "version": "3.9.13"
  }
 },
 "nbformat": 4,
 "nbformat_minor": 5
}
