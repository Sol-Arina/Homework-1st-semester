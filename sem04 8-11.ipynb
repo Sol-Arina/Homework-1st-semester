{
 "cells": [
  {
   "cell_type": "markdown",
   "id": "1ba73d33-e4bd-498f-9866-66bbb068d324",
   "metadata": {},
   "source": [
    "#### Задача 8. \n",
    "\n",
    "Даны два списка чисел. Найдите все числа, которые входят как в первый, так и во второй список, и выведите их в порядке возрастания."
   ]
  },
  {
   "cell_type": "code",
   "execution_count": 5,
   "id": "86aa879c-1d08-4f46-9413-6905c03157ff",
   "metadata": {},
   "outputs": [
    {
     "name": "stdout",
     "output_type": "stream",
     "text": [
      "[5, 6, 7]\n"
     ]
    }
   ],
   "source": [
    "a = {1, 2, 3, 4, 7, 5, 6}\n",
    "b = {5, 7, 6, 8, 9, 10, 11, 12}\n",
    "print(sorted(a & b))"
   ]
  },
  {
   "cell_type": "markdown",
   "id": "f60e2401-7d51-49fb-bb28-8a231f5c6987",
   "metadata": {},
   "source": [
    "#### Задача 9. \n",
    "\n",
    "Напишите функцию lexdiv(), которая считает лексическое разнообразие в тексте. Лексическое разноообразие - это количество уникальных слов, поделенное на количество всех слов в тексте. Посчитайте лексическое разнообразие для любого англоязычного и русскоязычного текста примерно одинаковой длины.\n",
    "\n",
    "Текст можно задать прямо в коде с помощью тройных кавычек. "
   ]
  },
  {
   "cell_type": "code",
   "execution_count": 76,
   "id": "f5b7a998-d3fd-4f2d-910e-9d4165d01f98",
   "metadata": {},
   "outputs": [],
   "source": [
    "text = '''Стою один среди равнины голой\n",
    "А журавлей относит ветер в даль\n",
    "Я полон дум о юности веселой\n",
    "Но ничего в прошедшем мне не жаль\n",
    "Не жаль мне лет растраченных напрасно\n",
    "Не жаль души сиреневую цветь\n",
    "В саду горит костер рябины красной\n",
    "Но никого не может он согреть'''\n",
    "\n",
    "def lexdiv(x):\n",
    "    div =  len(set(x)) / len(x)\n",
    "    return div\n",
    "    "
   ]
  },
  {
   "cell_type": "code",
   "execution_count": 77,
   "id": "b652cebb",
   "metadata": {},
   "outputs": [
    {
     "data": {
      "text/plain": [
       "0.8085106382978723"
      ]
     },
     "execution_count": 77,
     "metadata": {},
     "output_type": "execute_result"
    }
   ],
   "source": [
    "lexdiv(text.lower().split())"
   ]
  },
  {
   "cell_type": "markdown",
   "id": "778ba4ca-34cc-40bb-98a4-8c4168b0d02e",
   "metadata": {},
   "source": [
    "#### Задача 10. \n",
    "\n",
    "Напишите функцию printmatrix(), которая будет красиво выводить матрицу в печать. "
   ]
  },
  {
   "cell_type": "code",
   "execution_count": 17,
   "id": "9287bd95-72b6-4b39-9dd7-d21179d8fd87",
   "metadata": {},
   "outputs": [],
   "source": [
    "def printmatrix(x):\n",
    "    ma = [[n for n in range(x)] for m in range(x)]\n",
    "    return ma"
   ]
  },
  {
   "cell_type": "code",
   "execution_count": 18,
   "id": "435df4d1",
   "metadata": {},
   "outputs": [
    {
     "data": {
      "text/plain": [
       "[[0, 1, 2, 3, 4, 5, 6, 7, 8],\n",
       " [0, 1, 2, 3, 4, 5, 6, 7, 8],\n",
       " [0, 1, 2, 3, 4, 5, 6, 7, 8],\n",
       " [0, 1, 2, 3, 4, 5, 6, 7, 8],\n",
       " [0, 1, 2, 3, 4, 5, 6, 7, 8],\n",
       " [0, 1, 2, 3, 4, 5, 6, 7, 8],\n",
       " [0, 1, 2, 3, 4, 5, 6, 7, 8],\n",
       " [0, 1, 2, 3, 4, 5, 6, 7, 8],\n",
       " [0, 1, 2, 3, 4, 5, 6, 7, 8]]"
      ]
     },
     "execution_count": 18,
     "metadata": {},
     "output_type": "execute_result"
    }
   ],
   "source": [
    "printmatrix(int(input()))"
   ]
  },
  {
   "cell_type": "markdown",
   "id": "920168d6-c19e-4f57-b15e-399d8644ca7d",
   "metadata": {},
   "source": [
    "#### Задача 11. \n",
    "\n",
    "Напишите функцию generate_unitary(), которая будет генерировать единичную матрицу размера n. Единичная матрица - такая, у которой по диагонали стоят единички, а все остальные числа - нолики, например:\n",
    "\n",
    "    1 0 0 0\n",
    "    0 1 0 0\n",
    "    0 0 1 0\n",
    "    0 0 0 1"
   ]
  },
  {
   "cell_type": "code",
   "execution_count": 80,
   "id": "f44be14c-b60a-4f10-a902-069effa4cef6",
   "metadata": {},
   "outputs": [],
   "source": [
    "def generate_unitary(n):\n",
    "    return [[1 if i == j else 0 for j in range(n)] for i in range(n)]"
   ]
  },
  {
   "cell_type": "code",
   "execution_count": 81,
   "id": "045e65a9",
   "metadata": {},
   "outputs": [
    {
     "data": {
      "text/plain": [
       "[[1, 0, 0, 0, 0],\n",
       " [0, 1, 0, 0, 0],\n",
       " [0, 0, 1, 0, 0],\n",
       " [0, 0, 0, 1, 0],\n",
       " [0, 0, 0, 0, 1]]"
      ]
     },
     "execution_count": 81,
     "metadata": {},
     "output_type": "execute_result"
    }
   ],
   "source": [
    "generate_unitary(int(input()))"
   ]
  }
 ],
 "metadata": {
  "kernelspec": {
   "display_name": "Python 3 (ipykernel)",
   "language": "python",
   "name": "python3"
  },
  "language_info": {
   "codemirror_mode": {
    "name": "ipython",
    "version": 3
   },
   "file_extension": ".py",
   "mimetype": "text/x-python",
   "name": "python",
   "nbconvert_exporter": "python",
   "pygments_lexer": "ipython3",
   "version": "3.9.13"
  }
 },
 "nbformat": 4,
 "nbformat_minor": 5
}
