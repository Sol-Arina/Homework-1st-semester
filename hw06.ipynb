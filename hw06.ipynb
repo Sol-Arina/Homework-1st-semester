{
 "cells": [
  {
   "cell_type": "markdown",
   "id": "2d8a1729-6076-43d5-9708-825e87ae3291",
   "metadata": {},
   "source": [
    "#### Задача 2. \n",
    "\n",
    "Смоделируйте сценарий заказа еды в макдаке, определив четыре класса:\n",
    "\n",
    "**Lunch** - класс, который управляет всем событием \\\n",
    "**Customer** - человек, который покупает блюдо \\\n",
    "**Employee** - продавец \\\n",
    "**Food** - сама еда\n",
    "\n",
    "Какие у них должны быть методы:\n",
    "\n",
    "    class Lunch:\n",
    "        def __init__(self) - создает экземпляры покупателя и продавца\n",
    "        def order(self, foodName) - начинает процесс заказа продавцом\n",
    "        def result(self) - запрашивает у покупателя, какой у него экземпляр еды\n",
    "        \n",
    "    class Customer:\n",
    "        def __init__(self) инициирует еду у покупателя значением None (у покупателя сперва нет еды, он ее еще не купил)\n",
    "        def placeOrder(self, foodName, employee) - размещает заказ с экземпляром продавца, который обслуживает\n",
    "        def printFood(self)  выводит название блюда\n",
    "        \n",
    "    class Employee:\n",
    "        def takeOrder(self, foodName) - возвращает экземпляр еды с запрошенным названием\n",
    "        \n",
    "    class Food:\n",
    "    def __init__(self, name) - сохраняет название блюда\n",
    "    \n",
    "Что должно происходить?\n",
    "1. Конструктор класса Lunch заводит экземпляр покупателя и продавца, после чего метод order запрашивает у покупателя заказ, вызывая его метод placeOrder. В свою очередь placeOrder должен запрашивать у продавца новый объект Food, вызывая метод takeOrder. \n",
    "2. Объект Food должен хранить строку с названием блюда, переданную из Lunch.order() методу Customer.placeOrder(), методу Employee.takeOrder() и, наконец, конструктору Food. Наконец класс Lunch запрашивает о результате, который должен вывести, какую еду получил наш покупатель."
   ]
  },
  {
   "cell_type": "code",
   "execution_count": 38,
   "id": "1519e514-bc44-4408-b153-22eed3b44b54",
   "metadata": {},
   "outputs": [],
   "source": [
    "class Lunch:\n",
    "    def __init__(self):\n",
    "        self.customer = Customer()\n",
    "        self.employee = Employee()\n",
    "\n",
    "    def order(self, foodName):\n",
    "        self.customer.placeOrder(foodName, self.employee)\n",
    "\n",
    "    def result(self):\n",
    "        self.customer.printFood()\n",
    "\n",
    "\n",
    "class Customer:\n",
    "    def __init__(self):\n",
    "        self.food = None\n",
    "\n",
    "    def placeOrder(self, foodName, employee):\n",
    "        self.food = employee.takeOrder(foodName)\n",
    "\n",
    "    def printFood(self):\n",
    "        if self.food:\n",
    "            print('Заказ:', self.food.name)\n",
    "\n",
    "\n",
    "class Employee:\n",
    "    def takeOrder(self, foodName):\n",
    "        return Food(foodName)\n",
    "\n",
    "\n",
    "class Food:\n",
    "    def __init__(self, name):\n",
    "        self.name = name\n"
   ]
  },
  {
   "cell_type": "code",
   "execution_count": 40,
   "id": "5f084487",
   "metadata": {},
   "outputs": [
    {
     "name": "stdout",
     "output_type": "stream",
     "text": [
      "Заказ: картошка фри\n"
     ]
    }
   ],
   "source": [
    "food = Lunch()\n",
    "food.order(input('Сделайте заказ: '))\n",
    "food.result()"
   ]
  },
  {
   "cell_type": "markdown",
   "id": "0f042fc6-f150-4d35-9de2-47125a1063cc",
   "metadata": {},
   "source": [
    "#### Задача 3 (2 балла). \n",
    "\n",
    "Напишите игрушку \"Тамагочи\". У вас должно быть минимум три класса: два для питомцев, один для самой игры. При начале игры игрок должен выбирать, какое животное он хочет завести, и давать ему имя. Возраст и другие характеристики животного можно генерировать случайным образом. Животное можно кормить и играть с ним, еще оно спит. Сама игра должна проходить в цикле, на каждой итерации можно проверять, хочет ли животное спать, и отправлять его, все потребности можно реализовать через динамические атрибуты. Если животное долго не кормить, оно умирает. (Атрибуты можно обновлять на каждой итерации)"
   ]
  },
  {
   "cell_type": "code",
   "execution_count": 29,
   "id": "3cb34534",
   "metadata": {},
   "outputs": [],
   "source": [
    "from time import sleep\n",
    "from random import randint"
   ]
  },
  {
   "cell_type": "code",
   "execution_count": 31,
   "id": "ccba21da-6e84-47c2-afbd-651a9ec3c3d5",
   "metadata": {},
   "outputs": [],
   "source": [
    "class Turtle(Game):\n",
    "    def __init__(self, name):\n",
    "        self.name = name\n",
    "        self.hunger = 0\n",
    "        self.happiness = 0\n",
    "        self.energy = randint(1, 10)\n",
    "        self.age = randint(1, 50)\n",
    "        self.type = 'turtle'\n",
    "\n",
    "    \n",
    "class Frog(Game):\n",
    "    def __init__(self, name):\n",
    "        self.name = name\n",
    "        self.hunger = 0\n",
    "        self.happiness = 0\n",
    "        self.energy = randint(1, 15)\n",
    "        self.age = randint(1, 12)\n",
    "        self.type = 'frog'\n",
    "\n",
    "class Game:\n",
    "    # your code here\n",
    "    def play(self):\n",
    "        self.hunger += 5\n",
    "        self.happiness += 2\n",
    "        self.energy -= 2\n",
    "        \n",
    "\n",
    "    def feed(self):\n",
    "        self.hunger -= 2\n",
    "        self.happiness += 1\n",
    "\n",
    "    def check_status(self):\n",
    "        print(f\"{self.name}'s status: Голод - {self.hunger}, Счастье - {self.happiness}, Энергия - {self.energy}\")\n",
    "\n",
    "    def checkinfo(self):\n",
    "        print(f\"{self.name}'s info: возраст - {self.age}, тип - {self.type}\")\n"
   ]
  },
  {
   "cell_type": "code",
   "execution_count": 34,
   "id": "a891086e",
   "metadata": {},
   "outputs": [
    {
     "name": "stdout",
     "output_type": "stream",
     "text": [
      "У питомца мало энергии, питомец спит\n",
      "Питомец Bubble проснулся, энергия - 10\n",
      "Питомец Bubble поиграл, ему понравилось, счастье - 2\n",
      "Bubble's info: возраст - 37, тип - turtle\n",
      "Bubble's status: Голод - 5, Счастье - 2, Энергия - 8\n",
      "Питомец Bubble поел\n",
      "Bubble's status: Голод - 3, Счастье - 3, Энергия - 8\n",
      "Питомец Bubble поиграл, ему понравилось, счастье - 5\n",
      "Питомец Bubble поиграл, ему понравилось, счастье - 7\n",
      "У питомца мало энергии, питомец спит\n",
      "Питомец Bubble проснулся, энергия - 12\n",
      "Питомец Bubble поиграл, ему понравилось, счастье - 9\n",
      "Питомец Bubble умер от голода, игра окончена\n"
     ]
    }
   ],
   "source": [
    "choice = int(input(f'Выберите животное: 1 - лягушка, 2 - черепаха'))\n",
    "if choice == 1:\n",
    "    name = input(\"Введите имя лягушки: \")\n",
    "    tamagotchi = Frog(name)\n",
    "elif choice == 2:\n",
    "    name = input(\"Введите имя черепахи: \")\n",
    "    tamagotchi = Turtle(name)\n",
    "\n",
    "while True:\n",
    "    if tamagotchi.hunger >= 15:\n",
    "        print(f'Питомец {tamagotchi.name} умер от голода, игра окончена')\n",
    "        break\n",
    "    if tamagotchi.energy <= 5:\n",
    "        print('У питомца мало энергии, питомец спит')\n",
    "        sleep(5)\n",
    "        tamagotchi.energy += 8\n",
    "        print(f'Питомец {tamagotchi.name} проснулся, энергия - {tamagotchi.energy}')\n",
    "    command = input(\"Введите команду (feed, play, status, exit, info): \")\n",
    "    if command.lower() == \"feed\":\n",
    "        tamagotchi.feed()\n",
    "        print(f'Питомец {tamagotchi.name} поел')\n",
    "    elif command.lower() == \"play\":\n",
    "        tamagotchi.play()\n",
    "        print(f'Питомец {tamagotchi.name} поиграл, ему понравилось, счастье - {tamagotchi.happiness}')\n",
    "    elif command.lower() == \"status\":\n",
    "        tamagotchi.check_status()\n",
    "    elif command.lower() == \"info\":\n",
    "        tamagotchi.checkinfo()    \n",
    "    elif command.lower() == \"exit\":\n",
    "        break\n",
    "    else:\n",
    "        print('Такой команды нет!')\n"
   ]
  }
 ],
 "metadata": {
  "kernelspec": {
   "display_name": "Python 3 (ipykernel)",
   "language": "python",
   "name": "python3"
  },
  "language_info": {
   "codemirror_mode": {
    "name": "ipython",
    "version": 3
   },
   "file_extension": ".py",
   "mimetype": "text/x-python",
   "name": "python",
   "nbconvert_exporter": "python",
   "pygments_lexer": "ipython3",
   "version": "3.9.13"
  }
 },
 "nbformat": 4,
 "nbformat_minor": 5
}
