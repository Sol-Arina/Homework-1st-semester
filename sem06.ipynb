{
 "cells": [
  {
   "cell_type": "markdown",
   "id": "76f98ef1-b10c-4bc1-a15b-55553e5d52fb",
   "metadata": {},
   "source": [
    "#### Задача 3. \n",
    "\n",
    "Доработаем задачу 2: добавьте класс \"публикация\", чтобы у публикации была еще некоторая информация о ее объеме (и, соответственно, чтобы можно было вычислять количество времени, которое на нее нужно потратить). А у лингвиста теперь должен появиться показатель \"наработал в экспедициях\", который будет пополняться в специальном методе go_to_expedition(), и если его значение будет недостаточным для выбранной публикации, нужно об этом предупреждать и публикацию не добавлять. "
   ]
  },
  {
   "cell_type": "code",
   "execution_count": 11,
   "id": "0e43a95c-38ac-496c-be41-38a0107819a8",
   "metadata": {},
   "outputs": [],
   "source": [
    "from random import randint\n",
    "from time import sleep\n",
    "\n",
    "class Publication:\n",
    "    def __init__(self, name, volume, data):\n",
    "        '''\n",
    "        name - имя публикации\n",
    "        volume - количество страниц\n",
    "        data - количество необходимого материала (в попугаях...)\n",
    "        '''\n",
    "        self.name = name\n",
    "        self.volume = volume # колво стр\n",
    "        self.data = data #часов аудиозаписи..\n",
    "        \n",
    "    def __str__(self):\n",
    "       return f'{self.name}, {self.volume}, {self.data}'\n",
    "        \n",
    "    def __repr__(self):\n",
    "        return f\"Публикация('{self.name}', {self.volume} стр, {self.data} часов аудиозаписи)\"\n",
    "    \n",
    "class Linguist:\n",
    "\n",
    "    #publications = Publication()\n",
    "\n",
    "    def __init__(self, name, affiliation, stamina, publications):\n",
    "        self.name = name\n",
    "        self.affiliation = affiliation\n",
    "        self.stamina = stamina\n",
    "        self.publications = publications\n",
    "        self.efficiency = 0\n",
    "\n",
    "    def __str__(self):\n",
    "        return f'{self.name}, {self.affiliation}, {self.stamina}, {self.publications}'\n",
    "        \n",
    "    def __repr__(self):\n",
    "        return f'Linguist({self.name}, {self.affiliation}, {self.stamina}, {self.publications})'\n",
    "        \n",
    "    def work(self, publication):\n",
    "        '''\n",
    "        Лингвист работает над публикацией n времени (можете придумать, как вычислять его на основе названия публикации).\n",
    "        За это время он устает в k*n раз (вычитаем это из его выносливости, только следите, чтобы усталость отрицательной не сделалась).\n",
    "        '''\n",
    "        k = randint(1, 15)\n",
    "        if self.efficiency > publication.data:\n",
    "            if publication not in self.publications and self.efficiency > 30:\n",
    "                self.publications.append(publication)\n",
    "        else:\n",
    "            print(f'недостаточно материала для публикации, необходимо поехать в экспедицию')\n",
    "            self.publications = self.publications\n",
    "\n",
    "        if len(publication.name.split()) <= 3:\n",
    "            n = 1\n",
    "            self.stamina -= (n * k)\n",
    "            print(f'Лингвист поработал, осталось сил {self.stamina}') \n",
    "        elif len(publication.name.split()) > 3 and len(publication.name.split()) <= 6:\n",
    "            n = 2\n",
    "            self.stamina -= (n * k)\n",
    "            if self.stamina > 0:\n",
    "                print(f'Лингвист поработал, осталось сил {self.stamina}')\n",
    "            else:\n",
    "                print(f'Лингвист поработал, осталось сил {self.stamina}, нужно срочно отдохнуть!')           \n",
    "        elif len(publication.name.split()) > 6:       \n",
    "            n = 5\n",
    "            self.stamina -= (n * k)\n",
    "            if self.stamina > 0:\n",
    "                print(f'Лингвист поработал, осталось сил {self.stamina}')\n",
    "            elif self.stamina < 0:\n",
    "                print('Лингвист слишком много работал и умер от усталости...')\n",
    "            else:\n",
    "                print(f'Лингвист поработал, осталось сил {self.stamina}, нужно срочно отдохнуть!')  \n",
    "        \n",
    "\n",
    "    def sleep(self, hours):\n",
    "        '''Лингвист спит n часов, восстанавливая k*n выносливости'''\n",
    "        k = randint(1, 4)\n",
    "        print('Лингвист спит')\n",
    "        sleep(hours)\n",
    "        if hours >= 8:\n",
    "            self.stamina = 30\n",
    "            print('Силы восстановлены полностью!')\n",
    "        elif hours < 8:\n",
    "            self.stamina += (k * hours)\n",
    "            print(f'Лингвист отдохнул, его выносливость: {self.stamina}')       \n",
    "        \n",
    "    def show_publications(self):\n",
    "        '''Лингвист сообщает, какие у него появились публикации'''\n",
    "        print(f'У лингвиста {self.name} появились публикации {self.publications}')\n",
    "\n",
    "\n",
    "    def go_to_expedition(self, area, days):\n",
    "        '''\n",
    "        Можно придумать что-нибудь и для региона, куда едет лингвист:\n",
    "        допустим, на Кавказе показатель будет расти быстрее, чем в Поволжье и т.п.'''\n",
    "\n",
    "        print(f'Лингвист в экспедиции на дней: {days}')\n",
    "        sleep(days/2)\n",
    "        if 'кавказ' or 'океания' or 'африка' in area.lower():\n",
    "            k = 3\n",
    "            self.efficiency += (k * days) \n",
    "            print(f'в экспедиции лингвист набрал {self.efficiency} единицы эффективности') \n",
    "        else:\n",
    "            k = 1\n",
    "            self.efficiency += (k * days)\n",
    "            print(f'в экспедиции лингвист набрал {self.efficiency} единицы эффективности')         \n",
    "\n",
    "\n",
    "\n",
    "    "
   ]
  },
  {
   "cell_type": "code",
   "execution_count": 12,
   "id": "175ae310",
   "metadata": {},
   "outputs": [],
   "source": [
    "article = Publication('особенности построения предложений в языке маори', 80, 20)"
   ]
  },
  {
   "cell_type": "code",
   "execution_count": 13,
   "id": "d9dbb064",
   "metadata": {},
   "outputs": [],
   "source": [
    "alex = Linguist('Алекс', 'РГГУ', 27, [])"
   ]
  },
  {
   "cell_type": "code",
   "execution_count": 14,
   "id": "4ffc732e",
   "metadata": {},
   "outputs": [
    {
     "name": "stdout",
     "output_type": "stream",
     "text": [
      "недостаточно материала для публикации, необходимо поехать в экспедицию\n",
      "Лингвист поработал, осталось сил 13\n"
     ]
    }
   ],
   "source": [
    "alex.work(article) "
   ]
  },
  {
   "cell_type": "code",
   "execution_count": 15,
   "id": "7df37649",
   "metadata": {},
   "outputs": [
    {
     "name": "stdout",
     "output_type": "stream",
     "text": [
      "Лингвист спит\n",
      "Лингвист отдохнул, его выносливость: 25\n"
     ]
    }
   ],
   "source": [
    "alex.sleep(3)"
   ]
  },
  {
   "cell_type": "code",
   "execution_count": 16,
   "id": "b0450ec8",
   "metadata": {},
   "outputs": [
    {
     "name": "stdout",
     "output_type": "stream",
     "text": [
      "Лингвист в экспедиции на дней: 50\n",
      "в экспедиции лингвист набрал 150 единицы эффективности\n"
     ]
    }
   ],
   "source": [
    "alex.go_to_expedition(input('Куда поедем?'), 50)"
   ]
  },
  {
   "cell_type": "code",
   "execution_count": 17,
   "id": "5fa96abe",
   "metadata": {},
   "outputs": [
    {
     "name": "stdout",
     "output_type": "stream",
     "text": [
      "Лингвист поработал, осталось сил 3\n"
     ]
    }
   ],
   "source": [
    "alex.work(article) "
   ]
  },
  {
   "cell_type": "code",
   "execution_count": 18,
   "id": "c12c601d",
   "metadata": {},
   "outputs": [
    {
     "name": "stdout",
     "output_type": "stream",
     "text": [
      "У лингвиста Алекс появились публикации [Публикация('особенности построения предложений в языке маори', 80 стр, 20 часов аудиозаписи)]\n"
     ]
    }
   ],
   "source": [
    "alex.show_publications()"
   ]
  }
 ],
 "metadata": {
  "kernelspec": {
   "display_name": "Python 3 (ipykernel)",
   "language": "python",
   "name": "python3"
  },
  "language_info": {
   "codemirror_mode": {
    "name": "ipython",
    "version": 3
   },
   "file_extension": ".py",
   "mimetype": "text/x-python",
   "name": "python",
   "nbconvert_exporter": "python",
   "pygments_lexer": "ipython3",
   "version": "3.9.13"
  }
 },
 "nbformat": 4,
 "nbformat_minor": 5
}
