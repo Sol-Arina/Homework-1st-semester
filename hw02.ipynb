{
 "cells": [
  {
   "cell_type": "markdown",
   "id": "9fd2890d-cfdc-4c4f-abbf-9475fd88a67b",
   "metadata": {},
   "source": [
    "#### Задача 1. \n",
    "\n",
    "Пользователь вводит с клавиатуры какие-то числа (необходимо считывать их в цикле), пока не введет ноль. Нужно посчитать стандартное отклонение по формуле из [википедии](https://ru.wikipedia.org/wiki/%D0%A1%D1%80%D0%B5%D0%B4%D0%BD%D0%B5%D0%BA%D0%B2%D0%B0%D0%B4%D1%80%D0%B0%D1%82%D0%B8%D1%87%D0%B5%D1%81%D0%BA%D0%BE%D0%B5_%D0%BE%D1%82%D0%BA%D0%BB%D0%BE%D0%BD%D0%B5%D0%BD%D0%B8%D0%B5). Списками пользоваться нельзя. \n",
    "\n",
    "Подсказка: нужно преобразовать формулу. "
   ]
  },
  {
   "cell_type": "code",
   "execution_count": 10,
   "id": "54a5311f-b608-413c-ad00-bf837a232192",
   "metadata": {},
   "outputs": [
    {
     "name": "stdout",
     "output_type": "stream",
     "text": [
      "вы ввели ноль\n",
      "result: 1.4142135623730951\n"
     ]
    }
   ],
   "source": [
    "summa = 0\n",
    "i = 0\n",
    "squares = 0\n",
    "x = int(input()) #проверяла на 1 2 3 4 5\n",
    "while True:\n",
    "    if x != 0:\n",
    "        summa += x\n",
    "        i += 1\n",
    "        squares += x ** 2\n",
    "        x = int(input())\n",
    "    elif x == 0:\n",
    "        print('вы ввели ноль')\n",
    "        break\n",
    "# я не поняла до конца эту формулу, поэтому попыталась пошагово её написать, как в wikihow, но результат вроде совпадает с онлайн-калькулятором\n",
    "disp = ((squares - (summa ** 2) / i) / i) ** 0.5   \n",
    "print(f'result: {disp}')    \n"
   ]
  },
  {
   "cell_type": "markdown",
   "id": "9917cdc9-d739-4eca-8405-b9f640df483d",
   "metadata": {},
   "source": [
    "#### Задача 2. \n",
    "\n",
    "Пользователь вводит какие-то целые числа в бесконечном цикле, пока не введет ноль; программа должна выводить введенное число и согласовать с ним слово \"кролик\", например, \n",
    "    \n",
    "    1 кролик\n",
    "    2 кролика\n",
    "    11 кроликов\n",
    "    123 кролика\n",
    "    ...\n",
    " "
   ]
  },
  {
   "cell_type": "code",
   "execution_count": 5,
   "id": "dece8eac-10c9-4d12-9018-852058950448",
   "metadata": {},
   "outputs": [
    {
     "name": "stdout",
     "output_type": "stream",
     "text": [
      "11 кроликов\n",
      "23 кроликa\n",
      "2 кроликa\n",
      "111 кроликов\n",
      "1 кролик\n",
      "21 кролик\n",
      "45 кроликов\n",
      "67 кроликов\n",
      "89 кроликов\n",
      "you have entered a zero\n"
     ]
    }
   ],
   "source": [
    "while True:\n",
    "    x = int(input())\n",
    "    if x == 0:\n",
    "        print('you have entered a zero')\n",
    "        break\n",
    "    elif x % 100 >= 10 and x % 100 < 20 or x % 10 > 4 or x % 10 == 0:\n",
    "        print(f'{x} кроликов')\n",
    "    elif x % 10 == 1:\n",
    "        print(f'{x} кролик')\n",
    "    else:\n",
    "        print(f'{x} кроликa')"
   ]
  },
  {
   "cell_type": "markdown",
   "id": "d897375c-c557-4f2c-87b1-e88e2104ec72",
   "metadata": {},
   "source": [
    "#### Задача 3. \n",
    "\n",
    "Пользователь вводит целые (не обязательно положительные) числа. Программа должна вывести самое большое введенное число."
   ]
  },
  {
   "cell_type": "code",
   "execution_count": 19,
   "id": "8eaf6c30-5e08-4f7b-a9b2-7a6074bf9900",
   "metadata": {},
   "outputs": [
    {
     "name": "stdout",
     "output_type": "stream",
     "text": [
      "самое большое число: 654\n"
     ]
    }
   ],
   "source": [
    "maxi = 0\n",
    "while True:\n",
    "   num = int(input())\n",
    "   if num > maxi:\n",
    "      maxi = num\n",
    "   if num == 0: # нужно было какое-то условие, чтобы цикл закончился\n",
    "      break\n",
    "print (f'самое большое число: {maxi}')"
   ]
  },
  {
   "cell_type": "markdown",
   "id": "affef4de-70ab-4827-98fd-980f64b6cb31",
   "metadata": {},
   "source": [
    "#### Задача 4. \n",
    "\n",
    "Пользователь вводит с клавиатуры в бесконечном цикле разные вещи. Если он ввел целое число, нужно его возвести в квадрат; если он ввел слово, нужно вывести это слово в верхнем регистре; если он ввел любое количество пробельных символов, цикл завершается. "
   ]
  },
  {
   "cell_type": "code",
   "execution_count": 6,
   "id": "16aee851-baa0-4fe5-8307-a8f70185b761",
   "metadata": {},
   "outputs": [
    {
     "name": "stdout",
     "output_type": "stream",
     "text": [
      "16\n",
      "ЯБЛОКИ\n",
      "49\n",
      "СЛИВЫ\n",
      "вы ввели пробел\n"
     ]
    }
   ],
   "source": [
    "while True:\n",
    "    something = input()\n",
    "    if something.isdigit():\n",
    "        print(int(something) ** 2)\n",
    "    elif something.isalpha():\n",
    "        print(something.upper())    \n",
    "    elif something.isspace():\n",
    "        print('вы ввели пробел')\n",
    "        break"
   ]
  },
  {
   "cell_type": "markdown",
   "id": "1eb790b8-9c54-4be8-b747-bc03a10add17",
   "metadata": {},
   "source": [
    "#### Задача 5. \n",
    "\n",
    "Программа загадывает число от 1 до 1023. Игрок пытается угадать это число, и у него есть 10 попыток. Если игрок вводит загаданное число, программа поздравляет его и заканчивает работу. Иначе программа должна напечатать, введённое число больше или меньше загаданного. Если все 10 попыток неудачны - программа должна написать, что попытки кончились, вывести загаданное число, и предложить сыграть в игру заново (при этом число должно быть загадано другое). Если пользователь вводит число меньше, чем 1, или больше, чем 1023, программа должна об этом сообщить - но не засчитывать попытку (т.е., это не считается неудачной попыткой).\n",
    "\n",
    "**Ответьте на вопрос**: готовы ли вы ручаться, что угадаете загаданное число за эти 10 попыток?\n",
    "\n",
    "Чтобы загадать рандомное число, нужно использовать функцию randint() из внешнего модуля random. "
   ]
  },
  {
   "cell_type": "code",
   "execution_count": 3,
   "id": "e7f0c14f-d805-41bc-8ae1-ff149e1f477b",
   "metadata": {},
   "outputs": [
    {
     "name": "stdout",
     "output_type": "stream",
     "text": [
      "Я загадаю число от 1 до 1023. Попробуйте угадать! У вас есть 10 попыток\n",
      "Число за пределами\n",
      "Меньше\n",
      "Меньше\n",
      "Больше\n",
      "Больше\n",
      "Меньше\n",
      "Меньше\n",
      "Больше\n",
      "Меньше\n",
      "Больше\n",
      "Меньше\n",
      "Вы угадали!\n"
     ]
    }
   ],
   "source": [
    "from random import randint\n",
    "# Ответ на вопрос: да, готова! иногда можно догадаться, если каждый раз делить примерно на 2\n",
    "print('Я загадаю число от 1 до 1023. Попробуйте угадать! У вас есть 10 попыток')\n",
    "number = randint(1, 1023)\n",
    "guess = int(input('Число: '))\n",
    "rounds = 10\n",
    "while rounds != 0 and guess != number:\n",
    "    if guess > 1023 or guess < 0:\n",
    "        print('Число за пределами')\n",
    "        rounds += 1 \n",
    "    elif guess > number and guess < 1023:\n",
    "        print('Меньше')\n",
    "    elif guess < number and guess > 0:\n",
    "        print('Больше')   \n",
    "    rounds -= 1\n",
    "    guess = int(input('Число: '))\n",
    "    \n",
    "if rounds == 0 and guess != number:\n",
    "    print('Попытки кончились')\n",
    "else:\n",
    "    print('Вы угадали!')"
   ]
  },
  {
   "cell_type": "markdown",
   "id": "b792d84a-e9e3-4ff2-a344-bdde490dcd7e",
   "metadata": {},
   "source": [
    "#### Задача 6. \n",
    "\n",
    "Правильные скобки. На вход подается строка, которая содержит только и исключительно скобки трех видов: круглые, квадратные и фигурные. Например, '{[([({})])]}'. Ваша задача - написать программу, которая бы проверяла правильность последовательности скобок и возвращала True или False. Примеры правильных и неправильных строк:\n",
    "\n",
    "    '[(])' = False\n",
    "    ')[](' = False\n",
    "    '{[()]}' = True"
   ]
  },
  {
   "cell_type": "code",
   "execution_count": 12,
   "id": "64c2a9da-01bb-42a5-8e79-d1b5b1e0094c",
   "metadata": {},
   "outputs": [
    {
     "name": "stdout",
     "output_type": "stream",
     "text": [
      "True\n"
     ]
    }
   ],
   "source": [
    "brackets = input()\n",
    "while '()' in brackets or '{}' in brackets or '[]' in brackets:\n",
    "    brackets = brackets.replace('()', '')\n",
    "    brackets = brackets.replace('{}', '')\n",
    "    brackets = brackets.replace('[]', '')\n",
    "if brackets != '':\n",
    "    print(False)\n",
    "else:\n",
    "    print(True)"
   ]
  },
  {
   "cell_type": "markdown",
   "id": "8d9c917a-1b96-43cc-9523-f12ee8bf13e2",
   "metadata": {},
   "source": [
    "#### Задача 7. \n",
    "\n",
    "Занудная: выведите с помощью цикла порядковые номера всех букв русского алфавита (ё можно отдельно), заглавных и строчных. Посмотрите, есть ли между ними что-нибудь. \n",
    "\n",
    "А для латинских?"
   ]
  },
  {
   "cell_type": "code",
   "execution_count": 52,
   "id": "040d8f3f-2c20-4a21-b00f-a8547103be17",
   "metadata": {},
   "outputs": [
    {
     "name": "stdout",
     "output_type": "stream",
     "text": [
      "1025 1105\n",
      "Cyrillic: 1040\n",
      "Cyrillic: 1072\n",
      "Cyrillic: 1041\n",
      "Cyrillic: 1073\n",
      "Cyrillic: 1042\n",
      "Cyrillic: 1074\n",
      "Cyrillic: 1043\n",
      "Cyrillic: 1075\n",
      "Cyrillic: 1044\n",
      "Cyrillic: 1076\n",
      "Cyrillic: 1045\n",
      "Cyrillic: 1077\n",
      "Cyrillic: 1046\n",
      "Cyrillic: 1078\n",
      "Cyrillic: 1047\n",
      "Cyrillic: 1079\n",
      "Cyrillic: 1048\n",
      "Cyrillic: 1080\n",
      "Cyrillic: 1049\n",
      "Cyrillic: 1081\n",
      "Cyrillic: 1050\n",
      "Cyrillic: 1082\n",
      "Cyrillic: 1051\n",
      "Cyrillic: 1083\n",
      "Cyrillic: 1052\n",
      "Cyrillic: 1084\n",
      "Cyrillic: 1053\n",
      "Cyrillic: 1085\n",
      "Cyrillic: 1054\n",
      "Cyrillic: 1086\n",
      "Cyrillic: 1055\n",
      "Cyrillic: 1087\n",
      "Cyrillic: 1056\n",
      "Cyrillic: 1088\n",
      "Cyrillic: 1057\n",
      "Cyrillic: 1089\n",
      "Cyrillic: 1058\n",
      "Cyrillic: 1090\n",
      "Cyrillic: 1059\n",
      "Cyrillic: 1091\n",
      "Cyrillic: 1060\n",
      "Cyrillic: 1092\n",
      "Cyrillic: 1061\n",
      "Cyrillic: 1093\n",
      "Cyrillic: 1062\n",
      "Cyrillic: 1094\n",
      "Cyrillic: 1063\n",
      "Cyrillic: 1095\n",
      "Cyrillic: 1064\n",
      "Cyrillic: 1096\n",
      "Cyrillic: 1065\n",
      "Cyrillic: 1097\n",
      "Cyrillic: 1066\n",
      "Cyrillic: 1098\n",
      "Cyrillic: 1067\n",
      "Cyrillic: 1099\n",
      "Cyrillic: 1068\n",
      "Cyrillic: 1100\n",
      "Cyrillic: 1069\n",
      "Cyrillic: 1101\n",
      "Cyrillic: 1070\n",
      "Cyrillic: 1102\n",
      "Cyrillic: 1071\n",
      "Cyrillic: 1103\n",
      "Latin: 65\n",
      "Latin: 97\n",
      "Latin: 66\n",
      "Latin: 98\n",
      "Latin: 67\n",
      "Latin: 99\n",
      "Latin: 68\n",
      "Latin: 100\n",
      "Latin: 69\n",
      "Latin: 101\n",
      "Latin: 70\n",
      "Latin: 102\n",
      "Latin: 71\n",
      "Latin: 103\n",
      "Latin: 72\n",
      "Latin: 104\n",
      "Latin: 73\n",
      "Latin: 105\n",
      "Latin: 74\n",
      "Latin: 106\n",
      "Latin: 76\n",
      "Latin: 108\n",
      "Latin: 77\n",
      "Latin: 109\n",
      "Latin: 78\n",
      "Latin: 110\n",
      "Latin: 79\n",
      "Latin: 111\n",
      "Latin: 80\n",
      "Latin: 112\n",
      "Latin: 81\n",
      "Latin: 113\n",
      "Latin: 82\n",
      "Latin: 114\n",
      "Latin: 83\n",
      "Latin: 115\n",
      "Latin: 84\n",
      "Latin: 116\n",
      "Latin: 85\n",
      "Latin: 117\n",
      "Latin: 86\n",
      "Latin: 118\n",
      "Latin: 87\n",
      "Latin: 119\n",
      "Latin: 88\n",
      "Latin: 120\n",
      "Latin: 89\n",
      "Latin: 121\n",
      "Latin: 90\n",
      "Latin: 122\n"
     ]
    }
   ],
   "source": [
    "alph = 'АаБбВвГгДдЕеЖжЗзИиЙйКкЛлМмНнОоПпРрСсТтУуФфХхЦцЧчШшЩщЪъЫыЬьЭэЮюЯя'\n",
    "lat = 'AaBbCcDdEeFfGgHhIiJjLlMmNnOoPpQqRrSsTtUuVvWwXxYyZz'\n",
    "print(ord('Ё'), ord('ё'))\n",
    "for i in range(len(alph)):\n",
    "     print('Cyrillic: {}'.format(ord(alph[i]))) \n",
    "for j in range(len(lat)):\n",
    "     print('Latin: {}'.format(ord(lat[j])))  # сначала по порядку идут все заглавные, потом все строчные, а Ё после всего алфавита через ещё несколько номеров\n",
    "          "
   ]
  },
  {
   "cell_type": "markdown",
   "id": "281a8b4e-9e28-4467-a52e-61ca6c73597e",
   "metadata": {},
   "source": [
    "#### Задача 8. \n",
    "\n",
    "Шифр Цезаря: самый простой способ зашифровать текст - это сопоставить буквы алфавита со сдвигом, то есть, например, со сдвигом 2 - заменить все а на в, б на г, в на е и так далее. Подробнее есть в [Википедии](https://ru.wikipedia.org/wiki/%D0%A8%D0%B8%D1%84%D1%80_%D0%A6%D0%B5%D0%B7%D0%B0%D1%80%D1%8F), конечно же, а еще можно поиграться с ним [здесь](https://planetcalc.ru/1434/). Напишите программу, которая будет принимать строчку, зашифрованную таким шифром (с неизвестным сдвигом), и пытаться расшифровать ее. "
   ]
  },
  {
   "cell_type": "code",
   "execution_count": 70,
   "id": "71ff4c19-941f-4037-9798-fdaf2feffb08",
   "metadata": {},
   "outputs": [
    {
     "name": "stdout",
     "output_type": "stream",
     "text": [
      "Расшифрованное сообщение: \n",
      "импрдо оэяжлщ иоюплмз\n",
      "йнрсеп пюазмъ йпярмни\n",
      "костёр рябины красной\n",
      "лптужс савйоь лсбтопк\n",
      "мруфзт тбгкпэ мтвупрл\n",
      "нсфхиу увдлрю нугфрсм\n",
      "отхцйф фгемся офдхстн\n",
      "пуцчкх хдёнта пхецтуо\n",
      "рфчшлц цежоуб рцёчуфп\n",
      "схшщмч чёзпфв счжшфхр\n",
      "тцщънш шжирхг тшзщхцс\n",
      "учъыощ щзйсцд ущиъцчт\n",
      "фшыьпъ ъиктче фъйычшу\n",
      "хщьэры ыйлушё хыкьшщф\n",
      "цъэюсь ькмфщж цьлэщъх\n",
      "чыюятэ элнхъз чэмюъыц\n",
      "шьяаую юмоцыи шюняыьч\n",
      "щэабфя янпчьй щяоаьэш\n",
      "ъюбвха аоршэк ъапбэющ\n",
      "ыявгцб бпсщюл ыбрвюяъ\n",
      "ьагдчв вртъям ьвсгяаы\n",
      "эбдешг гсуыан эгтдабь\n",
      "ювеёщд дтфьбо юдуебвэ\n",
      "ягёжъе еухэвп яефёвгю\n",
      "аджзыё ёфцюгр аёхжгдя\n",
      "безиьж жхчядс бжцздеа\n",
      "вёийэз зцшает взчиеёб\n",
      "гжйкюи ичщбёу гишйёжв\n",
      "дзкляй йшъвжф дйщкжзг\n",
      "еилмак кщыгзх екълзид\n",
      "ёймнбл лъьдиц ёлымийе\n",
      "жкновм мыэейч жмьнйкё\n",
      "злопгн ньюёкш знэоклж\n"
     ]
    }
   ],
   "source": [
    "alphabet = 'абвгдеёжзийклмнопрстуфхцчшщъыьэюяабвгдеёжзийклмнопрстуфхцчшщъыьэюя'\n",
    "step = 0\n",
    "message = input('Введите сообщение: ').lower() # импрдо оэяжлщ иоюплмз - костёр рябины красной со сдвигом 31\n",
    "decoded = ''\n",
    "space = '\\n'\n",
    "while step != 33: # не могу придумать, как сделать так, чтобы выводилось одно правильное сообщение, поэтому выводятся все, одно из них правильно расшифрованное\n",
    "    decoded += space\n",
    "    for i in message:\n",
    "        letplace = alphabet.find(i)\n",
    "        newlet = letplace + step\n",
    "        if i in alphabet:\n",
    "            decoded = decoded + alphabet[newlet]\n",
    "        else:\n",
    "            decoded += i\n",
    "    step += 1\n",
    "print(f'Расшифрованное сообщение: {decoded}')    \n",
    "\n",
    "\n",
    "\n"
   ]
  }
 ],
 "metadata": {
  "kernelspec": {
   "display_name": "Python 3 (ipykernel)",
   "language": "python",
   "name": "python3"
  },
  "language_info": {
   "codemirror_mode": {
    "name": "ipython",
    "version": 3
   },
   "file_extension": ".py",
   "mimetype": "text/x-python",
   "name": "python",
   "nbconvert_exporter": "python",
   "pygments_lexer": "ipython3",
   "version": "3.9.13"
  }
 },
 "nbformat": 4,
 "nbformat_minor": 5
}
