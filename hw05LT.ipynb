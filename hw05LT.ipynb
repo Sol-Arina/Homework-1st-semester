{
 "cells": [
  {
   "cell_type": "markdown",
   "id": "7f708d7a-5eaf-4773-bf75-0e28cd022bf7",
   "metadata": {},
   "source": [
    "#### Задача 2. \n",
    "\n",
    "Напишите функцию, которая будет принимать строчку и возвращать список, состоящий из порядковых номеров в юникоде всех букв из строчки. "
   ]
  },
  {
   "cell_type": "code",
   "execution_count": 49,
   "id": "4230fedb-368a-4fdf-82b5-bdb9ed2a114c",
   "metadata": {},
   "outputs": [],
   "source": [
    "def myfunc(s):\n",
    "    s = ''.join(s)\n",
    "    mylist3 = []\n",
    "    for i in range(len(s)):\n",
    "        mylist3.append(ord(s[i]))\n",
    "    return(mylist3)    \n",
    "        "
   ]
  },
  {
   "cell_type": "code",
   "execution_count": 50,
   "id": "255ad9a6",
   "metadata": {},
   "outputs": [
    {
     "data": {
      "text/plain": [
       "[1084, 1077, 1085, 1103, 1079, 1086, 1074, 1091, 1090, 1074, 1072, 1089, 1103]"
      ]
     },
     "execution_count": 50,
     "metadata": {},
     "output_type": "execute_result"
    }
   ],
   "source": [
    "myfunc(input().split())"
   ]
  },
  {
   "cell_type": "markdown",
   "id": "18ff9b08-4592-4954-9cc4-a88f3f8827f1",
   "metadata": {},
   "source": [
    "#### Задача 3. \n",
    "\n",
    "Дан список, упорядоченный по неубыванию элементов в нем (то есть, например, 1 1 1 2 2 3 3 3). Определите, сколько в нем различных элементов."
   ]
  },
  {
   "cell_type": "code",
   "execution_count": 1,
   "id": "8dd7a105",
   "metadata": {},
   "outputs": [
    {
     "name": "stdout",
     "output_type": "stream",
     "text": [
      "5\n"
     ]
    }
   ],
   "source": [
    "mylist = [int(y) for y in input().split()]\n",
    "print(len(set(mylist)))"
   ]
  },
  {
   "cell_type": "markdown",
   "id": "96ec9c3c-5508-481c-8386-7d0cbcbd87c2",
   "metadata": {},
   "source": [
    "#### Задача 4. \n",
    "\n",
    "Сортировка с ё: дан список слов, которые нужно отсортировать по алфавиту таким образом, чтобы слова с буквой ё вставали в правильные места. Нужно использовать параметр key и написать свою дополнительную функцию, которую в него передавать. "
   ]
  },
  {
   "cell_type": "code",
   "execution_count": 53,
   "id": "a2746d25-1a10-42b5-a57f-ea3809c276bf",
   "metadata": {},
   "outputs": [],
   "source": [
    "def yoalphabet(x): # е - 1075, ё - 1105\n",
    "    mylist4 = []\n",
    "    for i in x:\n",
    "        if i == 'ё':\n",
    "            i = ord('ж') - 0.5\n",
    "            mylist4.append(i)\n",
    "        else:\n",
    "            mylist4.append(ord(i))\n",
    "    return mylist4             \n"
   ]
  },
  {
   "cell_type": "code",
   "execution_count": 54,
   "id": "e52dbdb7",
   "metadata": {},
   "outputs": [
    {
     "data": {
      "text/plain": [
       "['абрикос',\n",
       " 'впереди',\n",
       " 'вперёд',\n",
       " 'ежи',\n",
       " 'ели',\n",
       " 'ёж',\n",
       " 'ёлка',\n",
       " 'медовый',\n",
       " 'мёд',\n",
       " 'яблоко']"
      ]
     },
     "execution_count": 54,
     "metadata": {},
     "output_type": "execute_result"
    }
   ],
   "source": [
    "sorted(input().split(), key = yoalphabet) # абрикос ёж ежи яблоко медовый мёд вперёд впереди ёлка ели"
   ]
  },
  {
   "cell_type": "markdown",
   "id": "454cae5c-8dcf-48af-9882-a77b53f66bf7",
   "metadata": {},
   "source": [
    "#### Задача 5. \n",
    "\n",
    "Зализняк: отсортируйте список слов в алфавитном порядке, но с конца, как в словаре Зализняка. Например, слова \"арзуз, вася, мама\" выстроятся как \"мама, арбуз, вася\". "
   ]
  },
  {
   "cell_type": "code",
   "execution_count": 6,
   "id": "20266739-9101-4a86-9ebb-c416ca260ed8",
   "metadata": {},
   "outputs": [
    {
     "name": "stdout",
     "output_type": "stream",
     "text": [
      "['мама', 'арбуз', 'вася']\n"
     ]
    }
   ],
   "source": [
    "mylist2 = input().split() #арбуз вася мама\n",
    "print(sorted(mylist2, key=lambda x: x[-1]))\n"
   ]
  }
 ],
 "metadata": {
  "kernelspec": {
   "display_name": "Python 3 (ipykernel)",
   "language": "python",
   "name": "python3"
  },
  "language_info": {
   "codemirror_mode": {
    "name": "ipython",
    "version": 3
   },
   "file_extension": ".py",
   "mimetype": "text/x-python",
   "name": "python",
   "nbconvert_exporter": "python",
   "pygments_lexer": "ipython3",
   "version": "3.9.13"
  }
 },
 "nbformat": 4,
 "nbformat_minor": 5
}
