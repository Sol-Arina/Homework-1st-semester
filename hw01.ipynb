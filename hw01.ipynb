{
 "cells": [
  {
   "cell_type": "markdown",
   "id": "f8f2ad4c-84c4-414a-9adc-bb948ff062b5",
   "metadata": {},
   "source": [
    "Главный домашний квест: зарегистрироваться на гитхабе, завести репозиторий под домашние задания и пригласить меня в коллабораторы. Постарайтесь научиться пользоваться командной строкой или коммитить через среду разработки! Заливать файлы через сайт -- уныло."
   ]
  },
  {
   "cell_type": "markdown",
   "id": "44d89619-7257-407b-af38-3d1a2230a76d",
   "metadata": {},
   "source": [
    "#### Задача 1. \n",
    "\n",
    "Дано трехзначное число. Найдите сумму его цифр."
   ]
  },
  {
   "cell_type": "code",
   "execution_count": 20,
   "id": "bbdd572d-f43b-4e12-b32a-ff10c92f448c",
   "metadata": {},
   "outputs": [
    {
     "name": "stdout",
     "output_type": "stream",
     "text": [
      "Сумма: 21\n"
     ]
    }
   ],
   "source": [
    "number = int(input(\"Введите трёхзначное число: \"))\n",
    "a = number // 100\n",
    "b = (number - a * 100) // 10\n",
    "c = number - (a * 100) - (b * 10)\n",
    "sum = a + b + c\n",
    "print(f\"Сумма: {sum}\")"
   ]
  },
  {
   "cell_type": "markdown",
   "id": "2622f3fc-a9cb-4392-99ae-a31dff5674b4",
   "metadata": {},
   "source": [
    "#### Задача 2.\n",
    "\n",
    "Процентная ставка по вкладу составляет P процентов годовых, которые прибавляются к сумме вклада. Вклад составляет X рублей Y копеек. Определите размер вклада через год.\n",
    "Программа получает на вход целые числа P, X, Y и должна вывести два числа: величину вклада через год в рублях и копейках. Дробная часть копеек отбрасывается."
   ]
  },
  {
   "cell_type": "code",
   "execution_count": 29,
   "id": "22ad3819-b3a6-4046-b3e9-fe1b8373a956",
   "metadata": {},
   "outputs": [
    {
     "name": "stdout",
     "output_type": "stream",
     "text": [
      "Величина вклада через год составит 13560 рублей 38 копеек.\n"
     ]
    }
   ],
   "source": [
    "p = int(input(\"Процент по вкладу: \"))\n",
    "x = int(input(\"Рубли: \"))\n",
    "y = int(input(\"Копейки: \"))\n",
    "allmoney = y + (x * 100)\n",
    "yearafter = allmoney / 100 * (100 + p)\n",
    "print('Величина вклада через год составит', int(yearafter // 100), 'рублей', int(yearafter % 100), 'копеек.')\n"
   ]
  },
  {
   "cell_type": "markdown",
   "id": "a86607c1-be2d-42ec-bf21-f09d7a65295f",
   "metadata": {
    "tags": []
   },
   "source": [
    "#### Задача 3.\n",
    "\n",
    "Маша с математического факультета МГУ сильно заскучала, идя по улице. Она решила придумать себе такое развлечение:\n",
    "\n",
    "Если она видит машину, она проводит арифметические операции с ее номером. Так, если ее номер делится на 3, она возводит результат во 2-ю степень. Если ее номер не делится на 3, она целочисленно делит его на 5.\n",
    "\n",
    "Если Маша видит группу человек, она умножает количество людей на 8 и возвращает остаток от деления на 6.\n",
    "\n",
    "С помощью input() пользователь вводит либо целое трехзначное число (номер машины), либо однозначное или двузначное целое число (количество людей)."
   ]
  },
  {
   "cell_type": "code",
   "execution_count": 13,
   "id": "1442849d-88e0-4687-9d90-06a7df5a7a2e",
   "metadata": {},
   "outputs": [
    {
     "name": "stdout",
     "output_type": "stream",
     "text": [
      "Result: 110889\n"
     ]
    }
   ],
   "source": [
    "street = int(input(\"What does Masha see?\"))\n",
    "if street >= 100:\n",
    "    if street % 3 == False:\n",
    "        print('Result:', (street ** 2))\n",
    "    else:\n",
    "        print('Result:', (street // 5))        \n",
    "else:\n",
    "    print('Result:', ((street * 8) % 6)) \n",
    "    "
   ]
  },
  {
   "cell_type": "markdown",
   "id": "b5c60b82-4650-43a6-849f-5d3dfa824eef",
   "metadata": {},
   "source": [
    "#### Задача 4.\n",
    "\n",
    "Числа Фибоначчи (простые). Вводится целое число: с помощью формулы выведите число Фибоначчи с этим номером. "
   ]
  },
  {
   "cell_type": "code",
   "execution_count": 42,
   "id": "8d9bdcf8-208c-402d-b66e-1912dda40716",
   "metadata": {},
   "outputs": [
    {
     "name": "stdout",
     "output_type": "stream",
     "text": [
      "Fibonacci: 89\n"
     ]
    }
   ],
   "source": [
    "n = int(input('Number:'))\n",
    "f1 = 1\n",
    "f2 = 1 \n",
    "while n - 2 > 0:\n",
    "    sum = f1 + f2\n",
    "    f1 = f2\n",
    "    f2 = sum\n",
    "    n = n - 1\n",
    " \n",
    "print(\"Fibonacci:\", f2)\n",
    "       \n",
    "        "
   ]
  },
  {
   "cell_type": "markdown",
   "id": "c7894552-3463-4643-af27-7de4e8a5a327",
   "metadata": {},
   "source": [
    "#### Задача 5.\n",
    "\n",
    "Напишите программу, которая на вход принимает число секунд и возвращает его в часах, минутах и секундах в формате HH:MM:SS. "
   ]
  },
  {
   "cell_type": "code",
   "execution_count": 1,
   "id": "98ff7e6b-5672-4ca6-8aa5-5333b555258b",
   "metadata": {},
   "outputs": [
    {
     "name": "stdout",
     "output_type": "stream",
     "text": [
      "3:25:45\n"
     ]
    }
   ],
   "source": [
    "seconds = int(input(\"Введите количество секунд: \"))\n",
    "realseconds = seconds % 60\n",
    "minutes = seconds // 60 \n",
    "realminutes = minutes % 60\n",
    "hours = minutes // 60\n",
    "print(f\"{hours}:{realminutes}:{realseconds}\")"
   ]
  }
 ],
 "metadata": {
  "kernelspec": {
   "display_name": "Python 3",
   "language": "python",
   "name": "python3"
  },
  "language_info": {
   "codemirror_mode": {
    "name": "ipython",
    "version": 3
   },
   "file_extension": ".py",
   "mimetype": "text/x-python",
   "name": "python",
   "nbconvert_exporter": "python",
   "pygments_lexer": "ipython3",
   "version": "3.9.13"
  }
 },
 "nbformat": 4,
 "nbformat_minor": 5
}
